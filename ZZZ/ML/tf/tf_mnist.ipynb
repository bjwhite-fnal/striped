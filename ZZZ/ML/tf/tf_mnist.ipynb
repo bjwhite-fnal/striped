{
 "cells": [
  {
   "cell_type": "code",
   "execution_count": 1,
   "metadata": {},
   "outputs": [
    {
     "name": "stderr",
     "output_type": "stream",
     "text": [
      "/home/ivm/anaconda2/lib/python2.7/site-packages/h5py/__init__.py:36: FutureWarning: Conversion of the second argument of issubdtype from `float` to `np.floating` is deprecated. In future, it will be treated as `np.float64 == np.dtype(float).type`.\n",
      "  from ._conv import register_converters as _register_converters\n",
      "Using TensorFlow backend.\n"
     ]
    }
   ],
   "source": [
    "import keras\n",
    "from keras.models import Sequential\n",
    "from keras.layers import Dense, Dropout, Activation, Flatten, Reshape\n",
    "from keras.layers import Conv2D, MaxPooling2D\n"
   ]
  },
  {
   "cell_type": "code",
   "execution_count": 2,
   "metadata": {},
   "outputs": [],
   "source": [
    "\n",
    "def create_model():\n",
    "\n",
    "\n",
    "\tnum_classes = 10\n",
    "\tmodel = Sequential()\n",
    "\tinput_shape = (28, 28)\n",
    "\tmodel.add(Flatten(input_shape=input_shape))\n",
    "\tmodel.add(Dense(28*28*10, activation=\"tanh\"))\n",
    "\tmodel.add(Dense(1000, activation=\"tanh\"))\n",
    "\tmodel.add(Dense(num_classes, activation=\"softmax\"))\n",
    "\topt = keras.optimizers.SGD(lr=0.001, decay=1e-6)\n",
    "\n",
    "\tmodel.compile(loss='categorical_crossentropy',\n",
    "\t\t      optimizer=opt,\n",
    "\t\t      metrics=['accuracy'])\n",
    "\n",
    "\treturn model\n",
    "\n"
   ]
  },
  {
   "cell_type": "code",
   "execution_count": 3,
   "metadata": {},
   "outputs": [
    {
     "name": "stdout",
     "output_type": "stream",
     "text": [
      "WARNING:tensorflow:From /home/ivm/anaconda2/lib/python2.7/site-packages/tensorflow/python/framework/op_def_library.py:263: colocate_with (from tensorflow.python.framework.ops) is deprecated and will be removed in a future version.\n",
      "Instructions for updating:\n",
      "Colocations handled automatically by placer.\n",
      "_________________________________________________________________\n",
      "Layer (type)                 Output Shape              Param #   \n",
      "=================================================================\n",
      "reshape_1 (Reshape)          (None, 28, 28, 1)         0         \n",
      "_________________________________________________________________\n",
      "conv2d_1 (Conv2D)            (None, 24, 24, 10)        260       \n",
      "_________________________________________________________________\n",
      "activation_1 (Activation)    (None, 24, 24, 10)        0         \n",
      "_________________________________________________________________\n",
      "max_pooling2d_1 (MaxPooling2 (None, 12, 12, 10)        0         \n",
      "_________________________________________________________________\n",
      "conv2d_2 (Conv2D)            (None, 10, 10, 20)        1820      \n",
      "_________________________________________________________________\n",
      "activation_2 (Activation)    (None, 10, 10, 20)        0         \n",
      "_________________________________________________________________\n",
      "max_pooling2d_2 (MaxPooling2 (None, 5, 5, 20)          0         \n",
      "_________________________________________________________________\n",
      "conv2d_3 (Conv2D)            (None, 3, 3, 40)          7240      \n",
      "_________________________________________________________________\n",
      "activation_3 (Activation)    (None, 3, 3, 40)          0         \n",
      "_________________________________________________________________\n",
      "flatten_1 (Flatten)          (None, 360)               0         \n",
      "_________________________________________________________________\n",
      "dense_1 (Dense)              (None, 100)               36100     \n",
      "_________________________________________________________________\n",
      "dense_2 (Dense)              (None, 10)                1010      \n",
      "=================================================================\n",
      "Total params: 46,430\n",
      "Trainable params: 46,430\n",
      "Non-trainable params: 0\n",
      "_________________________________________________________________\n"
     ]
    }
   ],
   "source": [
    "def create_model():\n",
    "\n",
    "\n",
    "    num_classes = 10\n",
    "    model = Sequential()\n",
    "    input_shape = (28, 28)\n",
    "    model.add(Reshape((28,28,1), input_shape=input_shape))\n",
    "    model.add(Conv2D(10, (5,5)))\n",
    "    model.add(Activation('relu'))\n",
    "    model.add(MaxPooling2D())\n",
    "    model.add(Conv2D(20, (3,3)))\n",
    "    model.add(Activation('relu'))\n",
    "    model.add(MaxPooling2D())\n",
    "    model.add(Conv2D(40, (3,3)))\n",
    "    model.add(Activation('relu'))\n",
    "    model.add(Flatten())\n",
    "    model.add(Dense(100, activation=\"tanh\"))\n",
    "    model.add(Dense(num_classes, activation=\"softmax\"))\n",
    "    opt = keras.optimizers.SGD(lr=1.0, decay=1e-6)\n",
    "\n",
    "    model.compile(loss='categorical_crossentropy',\n",
    "              optimizer=opt,\n",
    "              metrics=['accuracy'])\n",
    "\n",
    "    return model\n",
    "\n",
    "model = create_model()\n",
    "model.summary()\n"
   ]
  },
  {
   "cell_type": "code",
   "execution_count": 4,
   "metadata": {
    "collapsed": true
   },
   "outputs": [],
   "source": [
    "#__worker_class__\n",
    "\n",
    "from striped.ml.keras_backend import ML_Keras_Worker\n",
    "from striped.ml import ML_Accumulator\n",
    "\n",
    "class Worker(ML_Keras_Worker):\n",
    "\n",
    "        def __init__(self, params, bulk, job_interface, db_interface):\n",
    "            ML_Keras_Worker.__init__(self, params, bulk, \"image\", \"labels\")\n",
    "\n",
    "class Accumulator(ML_Accumulator):\n",
    "        pass\n",
    "\n"
   ]
  },
  {
   "cell_type": "code",
   "execution_count": 7,
   "metadata": {},
   "outputs": [
    {
     "name": "stdout",
     "output_type": "stream",
     "text": [
      "epoch: 1, runtime: 64.585906, loss: 2.32160348495, accuracy: 3.9%\n",
      "epoch: 2, runtime: 76.023883, loss: 2.29838680824, accuracy: 7.4%\n",
      "epoch: 3, runtime: 75.638259, loss: 2.27433430354, accuracy: 13.2%\n",
      "epoch: 4, runtime: 80.241803, loss: 2.2465686957, accuracy: 19.5%\n",
      "epoch: 5, runtime: 91.992950, loss: 2.21221899986, accuracy: 26.5%\n"
     ]
    }
   ],
   "source": [
    "from striped.job import Session\n",
    "from striped.ml import ML_Job, MomentumOptimizer\n",
    "\n",
    "\n",
    "session = Session(\"striped_130tb.yaml\")\n",
    "\n",
    "for epoch in range(5):\n",
    "    job = ML_Job(session, model, worker_file=\"worker.py\", optimizer=MomentumOptimizer(0.1, 0.5))\n",
    "    job.run(\"MNIST\")\n",
    "    print \"epoch: %d, runtime: %f, loss: %s, accuracy: %.1f%%\" % (epoch+1, job.Runtime, job.Loss, job.Metric*100)\n"
   ]
  },
  {
   "cell_type": "code",
   "execution_count": null,
   "metadata": {
    "collapsed": true
   },
   "outputs": [],
   "source": []
  }
 ],
 "metadata": {
  "kernelspec": {
   "display_name": "Python 2",
   "language": "python",
   "name": "python2"
  },
  "language_info": {
   "codemirror_mode": {
    "name": "ipython",
    "version": 2
   },
   "file_extension": ".py",
   "mimetype": "text/x-python",
   "name": "python",
   "nbconvert_exporter": "python",
   "pygments_lexer": "ipython2",
   "version": "2.7.15"
  }
 },
 "nbformat": 4,
 "nbformat_minor": 2
}
