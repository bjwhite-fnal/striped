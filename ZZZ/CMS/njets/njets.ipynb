{
 "cells": [
  {
   "cell_type": "code",
   "execution_count": 1,
   "metadata": {
    "collapsed": false
   },
   "outputs": [],
   "source": [
    "from QWorker import IPythonDisplay\n"
   ]
  },
  {
   "cell_type": "code",
   "execution_count": null,
   "metadata": {
    "collapsed": true
   },
   "outputs": [],
   "source": [
    "#__worker_class__\n",
    "\n",
    "class Worker(object):\n",
    "\n",
    "    def columns(self):\n",
    "        return [\"NJets\"]\n",
    "\n",
    "    def process(self, events, emit):\n",
    "        emit(\"NJets\", events.NJets)\n",
    "        "
   ]
  },
  {
   "cell_type": "code",
   "execution_count": null,
   "metadata": {
    "collapsed": false,
    "scrolled": true
   },
   "outputs": [],
   "source": [
    "from QWorker import DistributedStripedSession as Session\n",
    "from QWorker import IPythonDisplay\n",
    "from datasets import Datasets\n",
    "\n",
    "from histbook import Hist, beside, groupby, below\n",
    "from histbook import bin as hbin\n",
    "\n",
    "registry_url = \"http://ifdb01.fnal.gov:9867\"\n",
    "data_server_url = \"http://dbweb7.fnal.gov:9091/striped/app\"\n",
    "    \n",
    "session = Session(data_server_url, registry_url)\n",
    "\n",
    "h_by_dataset = Hist(hbin(\"NJets\", 10, 0, 10), groupby(\"dataset\"))\n",
    "h_combined = Hist(hbin(\"NJets\", 20, 0, 20))\n",
    "#h_all = Hist(hbin(\"NJets\", 20, 0, 20))\n",
    "\n",
    "h_by_dataset_display = IPythonDisplay(\n",
    "    h_by_dataset\n",
    "        .stack(\"dataset\")\n",
    "        .area(\"NJets\", width=400)\n",
    ")\n",
    "h_combined_display = IPythonDisplay(\n",
    "    h_combined\n",
    "        .step(\"NJets\", width=400)\n",
    ")\n",
    "\n",
    "display = IPythonDisplay(\n",
    "    beside(\n",
    "        h_by_dataset\n",
    "            .stack(\"dataset\")\n",
    "            .area(\"NJets\", width=100),\n",
    "        h_combined\n",
    "            .line(\"NJets\", width=100, yscale={\"type\":\"log\"})\n",
    "    )\n",
    ")\n",
    "\n",
    "def callback(typ, nevents, data):\n",
    "    display.update()\n",
    "\n",
    "for dataset_name in Datasets[:15]:\n",
    "    job = session.createJob(dataset_name, user_callback=callback)\n",
    "    job.addHistogram(h_by_dataset, [\"NJets\", \"dataset\"], constants={\"dataset\":dataset_name})\n",
    "    job.addHistogram(h_combined, \"NJets\")\n",
    "    job.run()\n",
    "    runtime = job.TFinish - job.TStart\n",
    "    nevents = job.EventsProcessed\n",
    "    nworkers = len(job.WorkerAddresses)\n",
    "    display.update()\n",
    "\n"
   ]
  }
 ],
 "metadata": {
  "kernelspec": {
   "display_name": "Python 2",
   "language": "python",
   "name": "python2"
  },
  "language_info": {
   "codemirror_mode": {
    "name": "ipython",
    "version": 2
   },
   "file_extension": ".py",
   "mimetype": "text/x-python",
   "name": "python",
   "nbconvert_exporter": "python",
   "pygments_lexer": "ipython2",
   "version": "2.7.13"
  }
 },
 "nbformat": 4,
 "nbformat_minor": 2
}
