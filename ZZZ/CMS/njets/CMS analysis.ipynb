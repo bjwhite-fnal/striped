{
 "cells": [
  {
   "cell_type": "code",
   "execution_count": 1,
   "metadata": {
    "collapsed": true
   },
   "outputs": [],
   "source": [
    "import matplotlib.pyplot as plt\n",
    "\n",
    "%matplotlib inline  \n",
    "\n",
    "##%matplotlib notebook\n"
   ]
  },
  {
   "cell_type": "code",
   "execution_count": 2,
   "metadata": {
    "collapsed": false
   },
   "outputs": [],
   "source": [
    "#__worker_class__\n",
    "\n",
    "import math, time\n",
    "from Q import sqrt\n",
    "\n",
    "class Worker(object):\n",
    "\n",
    "    def columns(self):\n",
    "        return [\"Muon.p4\"]\n",
    "\n",
    "    def init(self, dataset, my_id):\n",
    "        event = dataset.event\n",
    "        event.nmuons = event.Muon.length\n",
    "        dataset.emit(\"nmu\", event.nmuons)\n",
    "        \n",
    "        mupair = event.Muon.pair\n",
    "        m1, m2 = mupair\n",
    "        sump = m1.p4 + m2.p4\n",
    "        mupair.M = sqrt(sump[3]*sump[3] - sump[0]*sump[0] - sump[1]*sump[1] - sump[2]*sump[2])\n",
    "        \n",
    "        dataset.emit(\"mass\", mupair.M)\n",
    "        dataset.emit(\"e1\", m1.p4[3])\n",
    "        dataset.emit(\"e2\", m2.p4[3])\n",
    "\n",
    "        dataset.filter(event.Muon.length>1)\n",
    "\n",
    "        \n",
    "    def run(self, events, emit):\n",
    "        #return\n",
    "        for e in events:\n",
    "            #pass\n",
    "            #time.sleep(10)\n",
    "            #emit(\"nmuons\", e.nmuons)\n",
    "            for mupair in e.Muon.pairs:\n",
    "                emit(\"mu_mu_mass\", mupair.M)\n",
    "            #emit(\"nmu\", e.nmuons)\n",
    "            pass\n",
    "        "
   ]
  },
  {
   "cell_type": "code",
   "execution_count": 3,
   "metadata": {
    "collapsed": false
   },
   "outputs": [
    {
     "ename": "TypeError",
     "evalue": "coercing to Unicode: need string or buffer, NoneType found",
     "output_type": "error",
     "traceback": [
      "\u001b[0;31m---------------------------------------------------------------------------\u001b[0m",
      "\u001b[0;31mTypeError\u001b[0m                                 Traceback (most recent call last)",
      "\u001b[0;32m<ipython-input-3-782e7ead29fb>\u001b[0m in \u001b[0;36m<module>\u001b[0;34m()\u001b[0m\n\u001b[1;32m     19\u001b[0m \u001b[0;31m#dataset_name = \"Summer16.ZJetsToNuNu_HT-100To200_13TeV-madgraph\"\u001b[0m\u001b[0;34m\u001b[0m\u001b[0;34m\u001b[0m\u001b[0m\n\u001b[1;32m     20\u001b[0m \u001b[0mdataset_name\u001b[0m \u001b[0;34m=\u001b[0m \u001b[0;34m\"Summer16.DYJetsToLL_M-50_HT-600to800_TuneCUETP8M1_13TeV-madgraphMLM-pythia8\"\u001b[0m\u001b[0;34m\u001b[0m\u001b[0m\n\u001b[0;32m---> 21\u001b[0;31m \u001b[0mjob\u001b[0m \u001b[0;34m=\u001b[0m \u001b[0msession\u001b[0m\u001b[0;34m.\u001b[0m\u001b[0mcreateJob\u001b[0m\u001b[0;34m(\u001b[0m\u001b[0mdataset_name\u001b[0m\u001b[0;34m,\u001b[0m \u001b[0mfraction\u001b[0m\u001b[0;34m=\u001b[0m\u001b[0;36m1.0\u001b[0m\u001b[0;34m)\u001b[0m\u001b[0;34m\u001b[0m\u001b[0m\n\u001b[0m\u001b[1;32m     22\u001b[0m \u001b[0;34m\u001b[0m\u001b[0m\n\u001b[1;32m     23\u001b[0m \u001b[0mjob\u001b[0m\u001b[0;34m.\u001b[0m\u001b[0maddDynamicHistogram\u001b[0m\u001b[0;34m(\u001b[0m\u001b[0mh_mu_mu_mass\u001b[0m\u001b[0;34m,\u001b[0m \u001b[0;34m\"mu_mu_mass\"\u001b[0m\u001b[0;34m)\u001b[0m\u001b[0;34m\u001b[0m\u001b[0m\n",
      "\u001b[0;32m/home/ivm/bigdata/qworker/QWorker/DistributedStripedSession.pyc\u001b[0m in \u001b[0;36mcreateJob\u001b[0;34m(self, dataset_name, worker_class_tag, fraction, worker_class_source, worker_class_file, display)\u001b[0m\n\u001b[1;32m     67\u001b[0m         \u001b[0muser_job_object\u001b[0m \u001b[0;34m=\u001b[0m \u001b[0mGenericJobCallbackObject\u001b[0m\u001b[0;34m(\u001b[0m\u001b[0;34m)\u001b[0m\u001b[0;34m\u001b[0m\u001b[0m\n\u001b[1;32m     68\u001b[0m \u001b[0;34m\u001b[0m\u001b[0m\n\u001b[0;32m---> 69\u001b[0;31m         \u001b[0mworker_class_source\u001b[0m \u001b[0;34m=\u001b[0m \u001b[0mworker_class_source\u001b[0m \u001b[0;32mor\u001b[0m \u001b[0mopen\u001b[0m\u001b[0;34m(\u001b[0m\u001b[0mworker_class_file\u001b[0m\u001b[0;34m,\u001b[0m \u001b[0;34m\"r\"\u001b[0m\u001b[0;34m)\u001b[0m\u001b[0;34m.\u001b[0m\u001b[0mread\u001b[0m\u001b[0;34m(\u001b[0m\u001b[0;34m)\u001b[0m\u001b[0;34m\u001b[0m\u001b[0m\n\u001b[0m\u001b[1;32m     70\u001b[0m \u001b[0;34m\u001b[0m\u001b[0m\n\u001b[1;32m     71\u001b[0m         \u001b[0;31m#print \"user_job_object:\", user_job_object\u001b[0m\u001b[0;34m\u001b[0m\u001b[0;34m\u001b[0m\u001b[0m\n",
      "\u001b[0;31mTypeError\u001b[0m: coercing to Unicode: need string or buffer, NoneType found"
     ]
    }
   ],
   "source": [
    "from QWorker import DistributedStripedSession as Session\n",
    "from QWorker import Histogram\n",
    "from histbook import Hist, beside\n",
    "from histbook import bin as hbin\n",
    "from vega import VegaLite as canvas   \n",
    "\n",
    "registry_url = \"http://ifdb01.fnal.gov:9867\"\n",
    "data_server_url = \"http://dbweb7.fnal.gov:9091/striped/app\"\n",
    "    \n",
    "session = Session(data_server_url, registry_url)\n",
    "\n",
    "hnmu = Hist(hbin(\"nmu\", 5, 0, 5))\n",
    "h_e_plus_e = Hist(hbin(\"e1+e2\", 20, 0, 1000))\n",
    "h_e_minus_e = Hist(hbin(\"e1-e2\", 20, -1000, 1000))\n",
    "h_mass = Hist(hbin(\"mass\", 9, 10, 100))\n",
    "\n",
    "h_mu_mu_mass = Histogram(80.0, 100.0, 20, title=\"2-Muon mass\")\n",
    "\n",
    "#dataset_name = \"Summer16.ZJetsToNuNu_HT-100To200_13TeV-madgraph\"\n",
    "dataset_name = \"Summer16.DYJetsToLL_M-50_HT-600to800_TuneCUETP8M1_13TeV-madgraphMLM-pythia8\"\n",
    "job = session.createJob(dataset_name, fraction=1.0)\n",
    "\n",
    "job.addDynamicHistogram(h_mu_mu_mass, \"mu_mu_mass\")\n",
    "job.addHistogram(hnmu, \"nmu\")\n",
    "job.addHistogram(h_e_plus_e, \"e1\", \"e2\")\n",
    "job.addHistogram(h_e_minus_e, \"e1\", \"e2\")\n",
    "job.addHistogram(h_mass, \"mass\")\n",
    "job.start()\n",
    "job.waitDone()\n",
    "\n",
    "\n",
    "runtime = job.TFinish - job.TStart\n",
    "nevents = job.EventsProcessed\n",
    "nworkers = len(job.WorkerAddresses)\n",
    "print \"Job finished. %d events processed using %d workers in %.1f seconds, %.2e events/second\" % (\n",
    "                nevents, nworkers, runtime, float(nevents)/runtime)\n",
    "\n",
    "\n",
    "beside(hnmu.step(\"nmu\"),\n",
    "    h_mass.step(\"mass\"),\n",
    "    h_e_plus_e.step(\"e1+e2\"),\n",
    "    h_e_minus_e.step(\"e1-e2\")\n",
    "      ).to(canvas)\n",
    "    \n",
    " "
   ]
  },
  {
   "cell_type": "code",
   "execution_count": 9,
   "metadata": {
    "collapsed": false
   },
   "outputs": [
    {
     "data": {
      "text/html": [
       "<div class=\"vega-embed\" id=\"3b787408-9b59-4afb-8451-11be6496d963\"></div>\n",
       "\n",
       "<style>\n",
       ".vega-embed .error p {\n",
       "    color: firebrick;\n",
       "    font-size: 14px;\n",
       "}\n",
       "</style>\n"
      ]
     },
     "metadata": {
      "jupyter-vega": "#3b787408-9b59-4afb-8451-11be6496d963"
     },
     "output_type": "display_data"
    },
    {
     "data": {
      "application/javascript": [
       "var spec = {\"$schema\": \"https://vega.github.io/schema/vega-lite/v2.json\", \"data\": {\"values\": [{\"b0\": 0.0, \"id\": \"b\", \"b1\": 0.0}, {\"b0\": 5e-10, \"id\": \"b\", \"b1\": 0.0}, {\"b0\": 1.0, \"id\": \"b\", \"b1\": 0.0}, {\"b0\": 2.0, \"id\": \"b\", \"b1\": 37.0}, {\"b0\": 3.0, \"id\": \"b\", \"b1\": 0.0}, {\"b0\": 4.0, \"id\": \"b\", \"b1\": 0.0}, {\"b0\": 5.0, \"id\": \"b\", \"b1\": 0.0}, {\"c2\": 0.0, \"c1\": 0.0, \"c0\": 10.0, \"id\": \"c\", \"c0c\": 10.0}, {\"c2\": 0.0, \"c1\": 0.0, \"c0\": 10.000000009, \"id\": \"c\", \"c0c\": 10.5}, {\"c2\": 0.0, \"c1\": 0.0, \"c0\": 11.0, \"id\": \"c\", \"c0c\": 11.5}, {\"c2\": 0.0, \"c1\": 0.0, \"c0\": 12.0, \"id\": \"c\", \"c0c\": 12.5}, {\"c2\": 0.0, \"c1\": 0.0, \"c0\": 13.0, \"id\": \"c\", \"c0c\": 13.5}, {\"c2\": 0.0, \"c1\": 0.0, \"c0\": 14.0, \"id\": \"c\", \"c0c\": 14.5}, {\"c2\": 0.0, \"c1\": 0.0, \"c0\": 15.0, \"id\": \"c\", \"c0c\": 15.5}, {\"c2\": 0.0, \"c1\": 0.0, \"c0\": 16.0, \"id\": \"c\", \"c0c\": 16.5}, {\"c2\": 0.0, \"c1\": 0.0, \"c0\": 17.0, \"id\": \"c\", \"c0c\": 17.5}, {\"c2\": 0.0, \"c1\": 0.0, \"c0\": 18.0, \"id\": \"c\", \"c0c\": 18.5}, {\"c2\": 0.0, \"c1\": 0.0, \"c0\": 19.0, \"id\": \"c\", \"c0c\": 19.5}, {\"c2\": 0.0, \"c1\": 0.0, \"c0\": 20.0, \"id\": \"c\", \"c0c\": 20.5}, {\"c2\": 0.0, \"c1\": 0.0, \"c0\": 21.0, \"id\": \"c\", \"c0c\": 21.5}, {\"c2\": 0.0, \"c1\": 0.0, \"c0\": 22.0, \"id\": \"c\", \"c0c\": 22.5}, {\"c2\": 1.0, \"c1\": 1.0, \"c0\": 23.0, \"id\": \"c\", \"c0c\": 23.5}, {\"c2\": 1.0, \"c1\": 1.0, \"c0\": 24.0, \"id\": \"c\", \"c0c\": 24.5}, {\"c2\": 1.0, \"c1\": 1.0, \"c0\": 25.0, \"id\": \"c\", \"c0c\": 25.5}, {\"c2\": 1.0, \"c1\": 1.0, \"c0\": 26.0, \"id\": \"c\", \"c0c\": 26.5}, {\"c2\": 0.0, \"c1\": 0.0, \"c0\": 27.0, \"id\": \"c\", \"c0c\": 27.5}, {\"c2\": 0.0, \"c1\": 0.0, \"c0\": 28.0, \"id\": \"c\", \"c0c\": 28.5}, {\"c2\": 0.0, \"c1\": 0.0, \"c0\": 29.0, \"id\": \"c\", \"c0c\": 29.5}, {\"c2\": 0.0, \"c1\": 0.0, \"c0\": 30.0, \"id\": \"c\", \"c0c\": 30.5}, {\"c2\": 0.0, \"c1\": 0.0, \"c0\": 31.0, \"id\": \"c\", \"c0c\": 31.5}, {\"c2\": 1.0, \"c1\": 1.0, \"c0\": 32.0, \"id\": \"c\", \"c0c\": 32.5}, {\"c2\": 0.0, \"c1\": 0.0, \"c0\": 33.0, \"id\": \"c\", \"c0c\": 33.5}, {\"c2\": 0.0, \"c1\": 0.0, \"c0\": 34.0, \"id\": \"c\", \"c0c\": 34.5}, {\"c2\": 0.0, \"c1\": 0.0, \"c0\": 35.0, \"id\": \"c\", \"c0c\": 35.5}, {\"c2\": 1.0, \"c1\": 1.0, \"c0\": 36.0, \"id\": \"c\", \"c0c\": 36.5}, {\"c2\": 0.0, \"c1\": 0.0, \"c0\": 37.0, \"id\": \"c\", \"c0c\": 37.5}, {\"c2\": 0.0, \"c1\": 0.0, \"c0\": 38.0, \"id\": \"c\", \"c0c\": 38.5}, {\"c2\": 0.0, \"c1\": 0.0, \"c0\": 39.0, \"id\": \"c\", \"c0c\": 39.5}, {\"c2\": 0.0, \"c1\": 0.0, \"c0\": 40.0, \"id\": \"c\", \"c0c\": 40.5}, {\"c2\": 0.0, \"c1\": 0.0, \"c0\": 41.0, \"id\": \"c\", \"c0c\": 41.5}, {\"c2\": 0.0, \"c1\": 0.0, \"c0\": 42.0, \"id\": \"c\", \"c0c\": 42.5}, {\"c2\": 0.0, \"c1\": 0.0, \"c0\": 43.0, \"id\": \"c\", \"c0c\": 43.5}, {\"c2\": 0.0, \"c1\": 0.0, \"c0\": 44.0, \"id\": \"c\", \"c0c\": 44.5}, {\"c2\": 0.0, \"c1\": 0.0, \"c0\": 45.0, \"id\": \"c\", \"c0c\": 45.5}, {\"c2\": 0.0, \"c1\": 0.0, \"c0\": 46.0, \"id\": \"c\", \"c0c\": 46.5}, {\"c2\": 0.0, \"c1\": 0.0, \"c0\": 47.0, \"id\": \"c\", \"c0c\": 47.5}, {\"c2\": 1.0, \"c1\": 1.0, \"c0\": 48.0, \"id\": \"c\", \"c0c\": 48.5}, {\"c2\": 0.0, \"c1\": 0.0, \"c0\": 49.0, \"id\": \"c\", \"c0c\": 49.5}, {\"c2\": 0.0, \"c1\": 0.0, \"c0\": 50.0, \"id\": \"c\", \"c0c\": 50.5}, {\"c2\": 0.0, \"c1\": 0.0, \"c0\": 51.0, \"id\": \"c\", \"c0c\": 51.5}, {\"c2\": 0.0, \"c1\": 0.0, \"c0\": 52.0, \"id\": \"c\", \"c0c\": 52.5}, {\"c2\": 0.0, \"c1\": 0.0, \"c0\": 53.0, \"id\": \"c\", \"c0c\": 53.5}, {\"c2\": 0.0, \"c1\": 0.0, \"c0\": 54.0, \"id\": \"c\", \"c0c\": 54.5}, {\"c2\": 0.0, \"c1\": 0.0, \"c0\": 55.0, \"id\": \"c\", \"c0c\": 55.5}, {\"c2\": 0.0, \"c1\": 0.0, \"c0\": 56.0, \"id\": \"c\", \"c0c\": 56.5}, {\"c2\": 1.0, \"c1\": 1.0, \"c0\": 57.0, \"id\": \"c\", \"c0c\": 57.5}, {\"c2\": 0.0, \"c1\": 0.0, \"c0\": 58.0, \"id\": \"c\", \"c0c\": 58.5}, {\"c2\": 0.0, \"c1\": 0.0, \"c0\": 58.99999999999999, \"id\": \"c\", \"c0c\": 59.5}, {\"c2\": 0.0, \"c1\": 0.0, \"c0\": 60.0, \"id\": \"c\", \"c0c\": 60.5}, {\"c2\": 0.0, \"c1\": 0.0, \"c0\": 61.0, \"id\": \"c\", \"c0c\": 61.5}, {\"c2\": 0.0, \"c1\": 0.0, \"c0\": 61.99999999999999, \"id\": \"c\", \"c0c\": 62.5}, {\"c2\": 0.0, \"c1\": 0.0, \"c0\": 63.0, \"id\": \"c\", \"c0c\": 63.5}, {\"c2\": 0.0, \"c1\": 0.0, \"c0\": 64.0, \"id\": \"c\", \"c0c\": 64.5}, {\"c2\": 0.0, \"c1\": 0.0, \"c0\": 65.0, \"id\": \"c\", \"c0c\": 65.5}, {\"c2\": 0.0, \"c1\": 0.0, \"c0\": 66.0, \"id\": \"c\", \"c0c\": 66.5}, {\"c2\": 0.0, \"c1\": 0.0, \"c0\": 67.0, \"id\": \"c\", \"c0c\": 67.5}, {\"c2\": 0.0, \"c1\": 0.0, \"c0\": 68.0, \"id\": \"c\", \"c0c\": 68.5}, {\"c2\": 0.0, \"c1\": 0.0, \"c0\": 69.0, \"id\": \"c\", \"c0c\": 69.5}, {\"c2\": 0.0, \"c1\": 0.0, \"c0\": 70.0, \"id\": \"c\", \"c0c\": 70.5}, {\"c2\": 0.0, \"c1\": 0.0, \"c0\": 71.0, \"id\": \"c\", \"c0c\": 71.5}, {\"c2\": 0.0, \"c1\": 0.0, \"c0\": 72.0, \"id\": \"c\", \"c0c\": 72.5}, {\"c2\": 0.0, \"c1\": 0.0, \"c0\": 73.0, \"id\": \"c\", \"c0c\": 73.5}, {\"c2\": 0.0, \"c1\": 0.0, \"c0\": 74.0, \"id\": \"c\", \"c0c\": 74.5}, {\"c2\": 0.0, \"c1\": 0.0, \"c0\": 75.0, \"id\": \"c\", \"c0c\": 75.5}, {\"c2\": 0.0, \"c1\": 0.0, \"c0\": 76.0, \"id\": \"c\", \"c0c\": 76.5}, {\"c2\": 0.0, \"c1\": 0.0, \"c0\": 77.0, \"id\": \"c\", \"c0c\": 77.5}, {\"c2\": 0.0, \"c1\": 0.0, \"c0\": 78.0, \"id\": \"c\", \"c0c\": 78.5}, {\"c2\": 0.0, \"c1\": 0.0, \"c0\": 79.0, \"id\": \"c\", \"c0c\": 79.5}, {\"c2\": 0.0, \"c1\": 0.0, \"c0\": 80.0, \"id\": \"c\", \"c0c\": 80.5}, {\"c2\": 0.0, \"c1\": 0.0, \"c0\": 81.0, \"id\": \"c\", \"c0c\": 81.5}, {\"c2\": 0.0, \"c1\": 0.0, \"c0\": 82.0, \"id\": \"c\", \"c0c\": 82.5}, {\"c2\": 0.0, \"c1\": 0.0, \"c0\": 83.0, \"id\": \"c\", \"c0c\": 83.5}, {\"c2\": 0.0, \"c1\": 0.0, \"c0\": 84.0, \"id\": \"c\", \"c0c\": 84.5}, {\"c2\": 0.0, \"c1\": 0.0, \"c0\": 85.0, \"id\": \"c\", \"c0c\": 85.5}, {\"c2\": 0.0, \"c1\": 0.0, \"c0\": 86.0, \"id\": \"c\", \"c0c\": 86.5}, {\"c2\": 0.0, \"c1\": 0.0, \"c0\": 87.0, \"id\": \"c\", \"c0c\": 87.5}, {\"c2\": 0.0, \"c1\": 0.0, \"c0\": 88.0, \"id\": \"c\", \"c0c\": 88.5}, {\"c2\": 0.0, \"c1\": 0.0, \"c0\": 89.0, \"id\": \"c\", \"c0c\": 89.5}, {\"c2\": 0.0, \"c1\": 0.0, \"c0\": 90.0, \"id\": \"c\", \"c0c\": 90.5}, {\"c2\": 0.0, \"c1\": 0.0, \"c0\": 91.0, \"id\": \"c\", \"c0c\": 91.5}, {\"c2\": 0.0, \"c1\": 0.0, \"c0\": 92.0, \"id\": \"c\", \"c0c\": 92.5}, {\"c2\": 0.0, \"c1\": 0.0, \"c0\": 93.0, \"id\": \"c\", \"c0c\": 93.5}, {\"c2\": 0.0, \"c1\": 0.0, \"c0\": 94.0, \"id\": \"c\", \"c0c\": 94.5}, {\"c2\": 0.0, \"c1\": 0.0, \"c0\": 95.0, \"id\": \"c\", \"c0c\": 95.5}, {\"c2\": 0.0, \"c1\": 0.0, \"c0\": 96.0, \"id\": \"c\", \"c0c\": 96.5}, {\"c2\": 0.0, \"c1\": 0.0, \"c0\": 97.0, \"id\": \"c\", \"c0c\": 97.5}, {\"c2\": 0.0, \"c1\": 0.0, \"c0\": 98.0, \"id\": \"c\", \"c0c\": 98.5}, {\"c2\": 0.0, \"c1\": 0.0, \"c0\": 99.0, \"id\": \"c\", \"c0c\": 99.5}, {\"c2\": 0.0, \"c1\": 0.0, \"c0\": 100.0, \"id\": \"c\", \"c0c\": 100.0}, {\"d0c\": 0.0, \"d2\": 0.0, \"id\": \"d\", \"d0\": 0.0, \"d1\": 0.0}, {\"d0c\": 10.0, \"d2\": 0.0, \"id\": \"d\", \"d0\": 1.0000000000000001e-07, \"d1\": 0.0}, {\"d0c\": 30.0, \"d2\": 3.1622776601683795, \"id\": \"d\", \"d0\": 20.0, \"d1\": 10.0}, {\"d0c\": 50.0, \"d2\": 2.8284271247461903, \"id\": \"d\", \"d0\": 40.0, \"d1\": 8.0}, {\"d0c\": 70.0, \"d2\": 2.8284271247461903, \"id\": \"d\", \"d0\": 60.0, \"d1\": 8.0}, {\"d0c\": 90.0, \"d2\": 2.0, \"id\": \"d\", \"d0\": 80.0, \"d1\": 4.0}, {\"d0c\": 110.0, \"d2\": 1.4142135623730951, \"id\": \"d\", \"d0\": 100.0, \"d1\": 2.0}, {\"d0c\": 130.0, \"d2\": 1.0, \"id\": \"d\", \"d0\": 120.0, \"d1\": 1.0}, {\"d0c\": 150.0, \"d2\": 2.0, \"id\": \"d\", \"d0\": 140.0, \"d1\": 4.0}, {\"d0c\": 170.0, \"d2\": 0.0, \"id\": \"d\", \"d0\": 160.0, \"d1\": 0.0}, {\"d0c\": 190.0, \"d2\": 0.0, \"id\": \"d\", \"d0\": 180.0, \"d1\": 0.0}, {\"d0c\": 210.0, \"d2\": 0.0, \"id\": \"d\", \"d0\": 200.0, \"d1\": 0.0}, {\"d0c\": 230.0, \"d2\": 0.0, \"id\": \"d\", \"d0\": 220.0, \"d1\": 0.0}, {\"d0c\": 250.0, \"d2\": 0.0, \"id\": \"d\", \"d0\": 240.0, \"d1\": 0.0}, {\"d0c\": 270.0, \"d2\": 0.0, \"id\": \"d\", \"d0\": 260.0, \"d1\": 0.0}, {\"d0c\": 290.0, \"d2\": 0.0, \"id\": \"d\", \"d0\": 280.0, \"d1\": 0.0}, {\"d0c\": 310.0, \"d2\": 0.0, \"id\": \"d\", \"d0\": 300.0, \"d1\": 0.0}, {\"d0c\": 330.0, \"d2\": 0.0, \"id\": \"d\", \"d0\": 320.0, \"d1\": 0.0}, {\"d0c\": 350.0, \"d2\": 0.0, \"id\": \"d\", \"d0\": 340.0, \"d1\": 0.0}, {\"d0c\": 370.0, \"d2\": 0.0, \"id\": \"d\", \"d0\": 360.0, \"d1\": 0.0}, {\"d0c\": 390.0, \"d2\": 0.0, \"id\": \"d\", \"d0\": 380.0, \"d1\": 0.0}, {\"d0c\": 410.0, \"d2\": 0.0, \"id\": \"d\", \"d0\": 400.0, \"d1\": 0.0}, {\"d0c\": 430.0, \"d2\": 0.0, \"id\": \"d\", \"d0\": 420.0, \"d1\": 0.0}, {\"d0c\": 450.0, \"d2\": 0.0, \"id\": \"d\", \"d0\": 440.0, \"d1\": 0.0}, {\"d0c\": 470.0, \"d2\": 0.0, \"id\": \"d\", \"d0\": 460.0, \"d1\": 0.0}, {\"d0c\": 490.0, \"d2\": 0.0, \"id\": \"d\", \"d0\": 480.0, \"d1\": 0.0}, {\"d0c\": 510.0, \"d2\": 0.0, \"id\": \"d\", \"d0\": 500.0, \"d1\": 0.0}, {\"d0c\": 530.0, \"d2\": 0.0, \"id\": \"d\", \"d0\": 520.0, \"d1\": 0.0}, {\"d0c\": 550.0, \"d2\": 0.0, \"id\": \"d\", \"d0\": 540.0, \"d1\": 0.0}, {\"d0c\": 570.0, \"d2\": 0.0, \"id\": \"d\", \"d0\": 560.0, \"d1\": 0.0}, {\"d0c\": 590.0, \"d2\": 0.0, \"id\": \"d\", \"d0\": 580.0, \"d1\": 0.0}, {\"d0c\": 610.0, \"d2\": 0.0, \"id\": \"d\", \"d0\": 600.0, \"d1\": 0.0}, {\"d0c\": 630.0, \"d2\": 0.0, \"id\": \"d\", \"d0\": 620.0, \"d1\": 0.0}, {\"d0c\": 650.0, \"d2\": 0.0, \"id\": \"d\", \"d0\": 640.0, \"d1\": 0.0}, {\"d0c\": 670.0, \"d2\": 0.0, \"id\": \"d\", \"d0\": 660.0, \"d1\": 0.0}, {\"d0c\": 690.0, \"d2\": 0.0, \"id\": \"d\", \"d0\": 680.0, \"d1\": 0.0}, {\"d0c\": 710.0, \"d2\": 0.0, \"id\": \"d\", \"d0\": 700.0, \"d1\": 0.0}, {\"d0c\": 730.0, \"d2\": 0.0, \"id\": \"d\", \"d0\": 720.0, \"d1\": 0.0}, {\"d0c\": 750.0, \"d2\": 0.0, \"id\": \"d\", \"d0\": 740.0, \"d1\": 0.0}, {\"d0c\": 770.0, \"d2\": 0.0, \"id\": \"d\", \"d0\": 760.0, \"d1\": 0.0}, {\"d0c\": 790.0, \"d2\": 0.0, \"id\": \"d\", \"d0\": 780.0, \"d1\": 0.0}, {\"d0c\": 810.0, \"d2\": 0.0, \"id\": \"d\", \"d0\": 800.0, \"d1\": 0.0}, {\"d0c\": 830.0, \"d2\": 0.0, \"id\": \"d\", \"d0\": 820.0, \"d1\": 0.0}, {\"d0c\": 850.0, \"d2\": 0.0, \"id\": \"d\", \"d0\": 840.0, \"d1\": 0.0}, {\"d0c\": 870.0, \"d2\": 0.0, \"id\": \"d\", \"d0\": 860.0, \"d1\": 0.0}, {\"d0c\": 890.0, \"d2\": 0.0, \"id\": \"d\", \"d0\": 880.0, \"d1\": 0.0}, {\"d0c\": 910.0, \"d2\": 0.0, \"id\": \"d\", \"d0\": 900.0, \"d1\": 0.0}, {\"d0c\": 930.0, \"d2\": 0.0, \"id\": \"d\", \"d0\": 920.0, \"d1\": 0.0}, {\"d0c\": 950.0, \"d2\": 0.0, \"id\": \"d\", \"d0\": 940.0, \"d1\": 0.0}, {\"d0c\": 970.0, \"d2\": 0.0, \"id\": \"d\", \"d0\": 960.0, \"d1\": 0.0}, {\"d0c\": 990.0, \"d2\": 0.0, \"id\": \"d\", \"d0\": 980.0, \"d1\": 0.0}, {\"d0c\": 1000.0, \"d2\": 0.0, \"id\": \"d\", \"d0\": 1000.0, \"d1\": 0.0}, {\"e0c\": -1000.0, \"e2\": 0.0, \"e1\": 0.0, \"id\": \"e\", \"e0\": -1000.0}, {\"e0c\": -980.0, \"e2\": 0.0, \"e1\": 0.0, \"id\": \"e\", \"e0\": -999.9999998}, {\"e0c\": -940.0, \"e2\": 0.0, \"e1\": 0.0, \"id\": \"e\", \"e0\": -960.0}, {\"e0c\": -900.0, \"e2\": 0.0, \"e1\": 0.0, \"id\": \"e\", \"e0\": -920.0}, {\"e0c\": -860.0, \"e2\": 0.0, \"e1\": 0.0, \"id\": \"e\", \"e0\": -880.0}, {\"e0c\": -820.0, \"e2\": 0.0, \"e1\": 0.0, \"id\": \"e\", \"e0\": -840.0}, {\"e0c\": -780.0, \"e2\": 0.0, \"e1\": 0.0, \"id\": \"e\", \"e0\": -800.0}, {\"e0c\": -740.0, \"e2\": 0.0, \"e1\": 0.0, \"id\": \"e\", \"e0\": -760.0}, {\"e0c\": -700.0, \"e2\": 0.0, \"e1\": 0.0, \"id\": \"e\", \"e0\": -720.0}, {\"e0c\": -660.0, \"e2\": 0.0, \"e1\": 0.0, \"id\": \"e\", \"e0\": -680.0}, {\"e0c\": -620.0, \"e2\": 0.0, \"e1\": 0.0, \"id\": \"e\", \"e0\": -640.0}, {\"e0c\": -580.0, \"e2\": 0.0, \"e1\": 0.0, \"id\": \"e\", \"e0\": -600.0}, {\"e0c\": -540.0, \"e2\": 0.0, \"e1\": 0.0, \"id\": \"e\", \"e0\": -560.0}, {\"e0c\": -500.0, \"e2\": 0.0, \"e1\": 0.0, \"id\": \"e\", \"e0\": -520.0}, {\"e0c\": -460.0, \"e2\": 0.0, \"e1\": 0.0, \"id\": \"e\", \"e0\": -480.0}, {\"e0c\": -420.0, \"e2\": 0.0, \"e1\": 0.0, \"id\": \"e\", \"e0\": -440.0}, {\"e0c\": -380.0, \"e2\": 0.0, \"e1\": 0.0, \"id\": \"e\", \"e0\": -400.0}, {\"e0c\": -340.0, \"e2\": 0.0, \"e1\": 0.0, \"id\": \"e\", \"e0\": -360.0}, {\"e0c\": -300.0, \"e2\": 0.0, \"e1\": 0.0, \"id\": \"e\", \"e0\": -320.0}, {\"e0c\": -260.0, \"e2\": 0.0, \"e1\": 0.0, \"id\": \"e\", \"e0\": -280.0}, {\"e0c\": -220.0, \"e2\": 0.0, \"e1\": 0.0, \"id\": \"e\", \"e0\": -240.0}, {\"e0c\": -180.0, \"e2\": 0.0, \"e1\": 0.0, \"id\": \"e\", \"e0\": -200.0}, {\"e0c\": -140.0, \"e2\": 0.0, \"e1\": 0.0, \"id\": \"e\", \"e0\": -160.0}, {\"e0c\": -100.0, \"e2\": 0.0, \"e1\": 0.0, \"id\": \"e\", \"e0\": -120.0}, {\"e0c\": -60.0, \"e2\": 0.0, \"e1\": 0.0, \"id\": \"e\", \"e0\": -80.0}, {\"e0c\": -20.0, \"e2\": 2.23606797749979, \"e1\": 5.0, \"id\": \"e\", \"e0\": -40.0}, {\"e0c\": 20.0, \"e2\": 5.0, \"e1\": 25.0, \"id\": \"e\", \"e0\": 0.0}, {\"e0c\": 60.0, \"e2\": 2.6457513110645907, \"e1\": 7.0, \"id\": \"e\", \"e0\": 40.0}, {\"e0c\": 100.0, \"e2\": 0.0, \"e1\": 0.0, \"id\": \"e\", \"e0\": 80.0}, {\"e0c\": 140.0, \"e2\": 0.0, \"e1\": 0.0, \"id\": \"e\", \"e0\": 120.0}, {\"e0c\": 180.0, \"e2\": 0.0, \"e1\": 0.0, \"id\": \"e\", \"e0\": 160.0}, {\"e0c\": 220.0, \"e2\": 0.0, \"e1\": 0.0, \"id\": \"e\", \"e0\": 200.0}, {\"e0c\": 260.0, \"e2\": 0.0, \"e1\": 0.0, \"id\": \"e\", \"e0\": 240.0}, {\"e0c\": 300.0, \"e2\": 0.0, \"e1\": 0.0, \"id\": \"e\", \"e0\": 280.0}, {\"e0c\": 340.0, \"e2\": 0.0, \"e1\": 0.0, \"id\": \"e\", \"e0\": 320.0}, {\"e0c\": 380.0, \"e2\": 0.0, \"e1\": 0.0, \"id\": \"e\", \"e0\": 360.0}, {\"e0c\": 420.0, \"e2\": 0.0, \"e1\": 0.0, \"id\": \"e\", \"e0\": 400.0}, {\"e0c\": 460.0, \"e2\": 0.0, \"e1\": 0.0, \"id\": \"e\", \"e0\": 440.0}, {\"e0c\": 500.0, \"e2\": 0.0, \"e1\": 0.0, \"id\": \"e\", \"e0\": 480.0}, {\"e0c\": 540.0, \"e2\": 0.0, \"e1\": 0.0, \"id\": \"e\", \"e0\": 520.0}, {\"e0c\": 580.0, \"e2\": 0.0, \"e1\": 0.0, \"id\": \"e\", \"e0\": 560.0}, {\"e0c\": 620.0, \"e2\": 0.0, \"e1\": 0.0, \"id\": \"e\", \"e0\": 600.0}, {\"e0c\": 660.0, \"e2\": 0.0, \"e1\": 0.0, \"id\": \"e\", \"e0\": 640.0}, {\"e0c\": 700.0, \"e2\": 0.0, \"e1\": 0.0, \"id\": \"e\", \"e0\": 680.0}, {\"e0c\": 740.0, \"e2\": 0.0, \"e1\": 0.0, \"id\": \"e\", \"e0\": 720.0}, {\"e0c\": 780.0, \"e2\": 0.0, \"e1\": 0.0, \"id\": \"e\", \"e0\": 760.0}, {\"e0c\": 820.0, \"e2\": 0.0, \"e1\": 0.0, \"id\": \"e\", \"e0\": 800.0}, {\"e0c\": 860.0, \"e2\": 0.0, \"e1\": 0.0, \"id\": \"e\", \"e0\": 840.0}, {\"e0c\": 900.0, \"e2\": 0.0, \"e1\": 0.0, \"id\": \"e\", \"e0\": 880.0}, {\"e0c\": 940.0, \"e2\": 0.0, \"e1\": 0.0, \"id\": \"e\", \"e0\": 920.0}, {\"e0c\": 980.0, \"e2\": 0.0, \"e1\": 0.0, \"id\": \"e\", \"e0\": 960.0}, {\"e0c\": 1000.0, \"e2\": 0.0, \"e1\": 0.0, \"id\": \"e\", \"e0\": 1000.0}]}, \"hconcat\": [{\"encoding\": {\"y\": {\"field\": \"b1\", \"type\": \"quantitative\", \"axis\": {\"title\": \"entries per bin\"}}, \"x\": {\"field\": \"b0\", \"scale\": {\"zero\": false}, \"type\": \"quantitative\", \"axis\": {\"title\": \"nmu\"}}}, \"transform\": [{\"filter\": {\"field\": \"id\", \"equal\": \"b\"}}], \"mark\": {\"type\": \"line\", \"interpolate\": \"step-before\"}}, {\"layer\": [{\"encoding\": {\"y\": {\"field\": \"c1\", \"type\": \"quantitative\", \"axis\": {\"title\": \"entries per bin\"}}, \"x\": {\"field\": \"c0\", \"scale\": {\"zero\": false}, \"type\": \"quantitative\", \"axis\": {\"title\": \"mass\"}}}, \"transform\": [], \"mark\": {\"type\": \"line\", \"interpolate\": \"step-before\"}}, {\"encoding\": {\"y\": {\"field\": \"error-down\", \"type\": \"quantitative\"}, \"x\": {\"field\": \"c0c\", \"type\": \"quantitative\"}, \"y2\": {\"field\": \"error-up\", \"type\": \"quantitative\"}}, \"transform\": [{\"as\": \"error-down\", \"calculate\": \"datum.c1 - datum.c2\"}, {\"as\": \"error-up\", \"calculate\": \"datum.c1 + datum.c2\"}], \"mark\": \"rule\"}]}, {\"layer\": [{\"encoding\": {\"y\": {\"field\": \"d1\", \"type\": \"quantitative\", \"axis\": {\"title\": \"entries per bin\"}}, \"x\": {\"field\": \"d0\", \"scale\": {\"zero\": false}, \"type\": \"quantitative\", \"axis\": {\"title\": \"e1+e2\"}}}, \"transform\": [], \"mark\": {\"type\": \"line\", \"interpolate\": \"step-before\"}}, {\"encoding\": {\"y\": {\"field\": \"error-down\", \"type\": \"quantitative\"}, \"x\": {\"field\": \"d0c\", \"type\": \"quantitative\"}, \"y2\": {\"field\": \"error-up\", \"type\": \"quantitative\"}}, \"transform\": [{\"as\": \"error-down\", \"calculate\": \"datum.d1 - datum.d2\"}, {\"as\": \"error-up\", \"calculate\": \"datum.d1 + datum.d2\"}], \"mark\": \"rule\"}]}, {\"layer\": [{\"encoding\": {\"y\": {\"field\": \"e1\", \"type\": \"quantitative\", \"axis\": {\"title\": \"entries per bin\"}}, \"x\": {\"field\": \"e0\", \"scale\": {\"zero\": false}, \"type\": \"quantitative\", \"axis\": {\"title\": \"e1-e2\"}}}, \"transform\": [], \"mark\": {\"type\": \"line\", \"interpolate\": \"step-before\"}}, {\"encoding\": {\"y\": {\"field\": \"error-down\", \"type\": \"quantitative\"}, \"x\": {\"field\": \"e0c\", \"type\": \"quantitative\"}, \"y2\": {\"field\": \"error-up\", \"type\": \"quantitative\"}}, \"transform\": [{\"as\": \"error-down\", \"calculate\": \"datum.e1 - datum.e2\"}, {\"as\": \"error-up\", \"calculate\": \"datum.e1 + datum.e2\"}], \"mark\": \"rule\"}]}]};\n",
       "var opt = {};\n",
       "var selector = \"#3b787408-9b59-4afb-8451-11be6496d963\";\n",
       "var type = \"vega-lite\";\n",
       "\n",
       "var output_area = this;\n",
       "\n",
       "require(['nbextensions/jupyter-vega/index'], function(vega) {\n",
       "  vega.render(selector, spec, type, opt, output_area);\n",
       "}, function (err) {\n",
       "  if (err.requireType !== 'scripterror') {\n",
       "    throw(err);\n",
       "  }\n",
       "});\n"
      ]
     },
     "metadata": {
      "jupyter-vega": "#3b787408-9b59-4afb-8451-11be6496d963"
     },
     "output_type": "display_data"
    },
    {
     "data": {
      "image/png": "[encoded data removed]"
     },
     "metadata": {
      "jupyter-vega": "#3b787408-9b59-4afb-8451-11be6496d963"
     },
     "output_type": "display_data"
    }
   ],
   "source": [
    "beside(hnmu.step(\"nmu\"),\n",
    "    h_mass.step(\"mass\", error=True),\n",
    "    h_e_plus_e.step(\"e1+e2\", error=True),\n",
    "    h_e_minus_e.step(\"e1-e2\", error=True)\n",
    "      ).to(canvas)   "
   ]
  },
  {
   "cell_type": "code",
   "execution_count": 7,
   "metadata": {
    "collapsed": false
   },
   "outputs": [
    {
     "data": {
      "text/html": [
       "<div>\n",
       "<style scoped>\n",
       "    .dataframe tbody tr th:only-of-type {\n",
       "        vertical-align: middle;\n",
       "    }\n",
       "\n",
       "    .dataframe tbody tr th {\n",
       "        vertical-align: top;\n",
       "    }\n",
       "\n",
       "    .dataframe thead th {\n",
       "        text-align: right;\n",
       "    }\n",
       "</style>\n",
       "<table border=\"1\" class=\"dataframe\">\n",
       "  <thead>\n",
       "    <tr style=\"text-align: right;\">\n",
       "      <th></th>\n",
       "      <th>count()</th>\n",
       "      <th>err(count())</th>\n",
       "    </tr>\n",
       "    <tr>\n",
       "      <th>mass</th>\n",
       "      <th></th>\n",
       "      <th></th>\n",
       "    </tr>\n",
       "  </thead>\n",
       "  <tbody>\n",
       "    <tr>\n",
       "      <th>[-inf, 10.0)</th>\n",
       "      <td>2242.0</td>\n",
       "      <td>47.349762</td>\n",
       "    </tr>\n",
       "    <tr>\n",
       "      <th>[10.0, 11.0)</th>\n",
       "      <td>16.0</td>\n",
       "      <td>4.000000</td>\n",
       "    </tr>\n",
       "    <tr>\n",
       "      <th>[11.0, 12.0)</th>\n",
       "      <td>28.0</td>\n",
       "      <td>5.291503</td>\n",
       "    </tr>\n",
       "    <tr>\n",
       "      <th>[12.0, 13.0)</th>\n",
       "      <td>25.0</td>\n",
       "      <td>5.000000</td>\n",
       "    </tr>\n",
       "    <tr>\n",
       "      <th>[13.0, 14.0)</th>\n",
       "      <td>14.0</td>\n",
       "      <td>3.741657</td>\n",
       "    </tr>\n",
       "    <tr>\n",
       "      <th>[14.0, 15.0)</th>\n",
       "      <td>11.0</td>\n",
       "      <td>3.316625</td>\n",
       "    </tr>\n",
       "    <tr>\n",
       "      <th>[15.0, 16.0)</th>\n",
       "      <td>13.0</td>\n",
       "      <td>3.605551</td>\n",
       "    </tr>\n",
       "    <tr>\n",
       "      <th>[16.0, 17.0)</th>\n",
       "      <td>15.0</td>\n",
       "      <td>3.872983</td>\n",
       "    </tr>\n",
       "    <tr>\n",
       "      <th>[17.0, 18.0)</th>\n",
       "      <td>18.0</td>\n",
       "      <td>4.242641</td>\n",
       "    </tr>\n",
       "    <tr>\n",
       "      <th>[18.0, 19.0)</th>\n",
       "      <td>13.0</td>\n",
       "      <td>3.605551</td>\n",
       "    </tr>\n",
       "    <tr>\n",
       "      <th>[19.0, 20.0)</th>\n",
       "      <td>24.0</td>\n",
       "      <td>4.898979</td>\n",
       "    </tr>\n",
       "    <tr>\n",
       "      <th>[20.0, 21.0)</th>\n",
       "      <td>13.0</td>\n",
       "      <td>3.605551</td>\n",
       "    </tr>\n",
       "    <tr>\n",
       "      <th>[21.0, 22.0)</th>\n",
       "      <td>20.0</td>\n",
       "      <td>4.472136</td>\n",
       "    </tr>\n",
       "    <tr>\n",
       "      <th>[22.0, 23.0)</th>\n",
       "      <td>31.0</td>\n",
       "      <td>5.567764</td>\n",
       "    </tr>\n",
       "    <tr>\n",
       "      <th>[23.0, 24.0)</th>\n",
       "      <td>22.0</td>\n",
       "      <td>4.690416</td>\n",
       "    </tr>\n",
       "    <tr>\n",
       "      <th>[24.0, 25.0)</th>\n",
       "      <td>38.0</td>\n",
       "      <td>6.164414</td>\n",
       "    </tr>\n",
       "    <tr>\n",
       "      <th>[25.0, 26.0)</th>\n",
       "      <td>32.0</td>\n",
       "      <td>5.656854</td>\n",
       "    </tr>\n",
       "    <tr>\n",
       "      <th>[26.0, 27.0)</th>\n",
       "      <td>34.0</td>\n",
       "      <td>5.830952</td>\n",
       "    </tr>\n",
       "    <tr>\n",
       "      <th>[27.0, 28.0)</th>\n",
       "      <td>28.0</td>\n",
       "      <td>5.291503</td>\n",
       "    </tr>\n",
       "    <tr>\n",
       "      <th>[28.0, 29.0)</th>\n",
       "      <td>45.0</td>\n",
       "      <td>6.708204</td>\n",
       "    </tr>\n",
       "    <tr>\n",
       "      <th>[29.0, 30.0)</th>\n",
       "      <td>32.0</td>\n",
       "      <td>5.656854</td>\n",
       "    </tr>\n",
       "    <tr>\n",
       "      <th>[30.0, 31.0)</th>\n",
       "      <td>36.0</td>\n",
       "      <td>6.000000</td>\n",
       "    </tr>\n",
       "    <tr>\n",
       "      <th>[31.0, 32.0)</th>\n",
       "      <td>33.0</td>\n",
       "      <td>5.744563</td>\n",
       "    </tr>\n",
       "    <tr>\n",
       "      <th>[32.0, 33.0)</th>\n",
       "      <td>34.0</td>\n",
       "      <td>5.830952</td>\n",
       "    </tr>\n",
       "    <tr>\n",
       "      <th>[33.0, 34.0)</th>\n",
       "      <td>35.0</td>\n",
       "      <td>5.916080</td>\n",
       "    </tr>\n",
       "    <tr>\n",
       "      <th>[34.0, 35.0)</th>\n",
       "      <td>23.0</td>\n",
       "      <td>4.795832</td>\n",
       "    </tr>\n",
       "    <tr>\n",
       "      <th>[35.0, 36.0)</th>\n",
       "      <td>42.0</td>\n",
       "      <td>6.480741</td>\n",
       "    </tr>\n",
       "    <tr>\n",
       "      <th>[36.0, 37.0)</th>\n",
       "      <td>26.0</td>\n",
       "      <td>5.099020</td>\n",
       "    </tr>\n",
       "    <tr>\n",
       "      <th>[37.0, 38.0)</th>\n",
       "      <td>37.0</td>\n",
       "      <td>6.082763</td>\n",
       "    </tr>\n",
       "    <tr>\n",
       "      <th>[38.0, 39.0)</th>\n",
       "      <td>26.0</td>\n",
       "      <td>5.099020</td>\n",
       "    </tr>\n",
       "    <tr>\n",
       "      <th>...</th>\n",
       "      <td>...</td>\n",
       "      <td>...</td>\n",
       "    </tr>\n",
       "    <tr>\n",
       "      <th>[72.0, 73.0)</th>\n",
       "      <td>4.0</td>\n",
       "      <td>2.000000</td>\n",
       "    </tr>\n",
       "    <tr>\n",
       "      <th>[73.0, 74.0)</th>\n",
       "      <td>2.0</td>\n",
       "      <td>1.414214</td>\n",
       "    </tr>\n",
       "    <tr>\n",
       "      <th>[74.0, 75.0)</th>\n",
       "      <td>2.0</td>\n",
       "      <td>1.414214</td>\n",
       "    </tr>\n",
       "    <tr>\n",
       "      <th>[75.0, 76.0)</th>\n",
       "      <td>4.0</td>\n",
       "      <td>2.000000</td>\n",
       "    </tr>\n",
       "    <tr>\n",
       "      <th>[76.0, 77.0)</th>\n",
       "      <td>4.0</td>\n",
       "      <td>2.000000</td>\n",
       "    </tr>\n",
       "    <tr>\n",
       "      <th>[77.0, 78.0)</th>\n",
       "      <td>4.0</td>\n",
       "      <td>2.000000</td>\n",
       "    </tr>\n",
       "    <tr>\n",
       "      <th>[78.0, 79.0)</th>\n",
       "      <td>1.0</td>\n",
       "      <td>1.000000</td>\n",
       "    </tr>\n",
       "    <tr>\n",
       "      <th>[79.0, 80.0)</th>\n",
       "      <td>3.0</td>\n",
       "      <td>1.732051</td>\n",
       "    </tr>\n",
       "    <tr>\n",
       "      <th>[80.0, 81.0)</th>\n",
       "      <td>1.0</td>\n",
       "      <td>1.000000</td>\n",
       "    </tr>\n",
       "    <tr>\n",
       "      <th>[81.0, 82.0)</th>\n",
       "      <td>1.0</td>\n",
       "      <td>1.000000</td>\n",
       "    </tr>\n",
       "    <tr>\n",
       "      <th>[82.0, 83.0)</th>\n",
       "      <td>2.0</td>\n",
       "      <td>1.414214</td>\n",
       "    </tr>\n",
       "    <tr>\n",
       "      <th>[83.0, 84.0)</th>\n",
       "      <td>3.0</td>\n",
       "      <td>1.732051</td>\n",
       "    </tr>\n",
       "    <tr>\n",
       "      <th>[84.0, 85.0)</th>\n",
       "      <td>2.0</td>\n",
       "      <td>1.414214</td>\n",
       "    </tr>\n",
       "    <tr>\n",
       "      <th>[85.0, 86.0)</th>\n",
       "      <td>4.0</td>\n",
       "      <td>2.000000</td>\n",
       "    </tr>\n",
       "    <tr>\n",
       "      <th>[86.0, 87.0)</th>\n",
       "      <td>3.0</td>\n",
       "      <td>1.732051</td>\n",
       "    </tr>\n",
       "    <tr>\n",
       "      <th>[87.0, 88.0)</th>\n",
       "      <td>7.0</td>\n",
       "      <td>2.645751</td>\n",
       "    </tr>\n",
       "    <tr>\n",
       "      <th>[88.0, 89.0)</th>\n",
       "      <td>1.0</td>\n",
       "      <td>1.000000</td>\n",
       "    </tr>\n",
       "    <tr>\n",
       "      <th>[89.0, 90.0)</th>\n",
       "      <td>1.0</td>\n",
       "      <td>1.000000</td>\n",
       "    </tr>\n",
       "    <tr>\n",
       "      <th>[90.0, 91.0)</th>\n",
       "      <td>2.0</td>\n",
       "      <td>1.414214</td>\n",
       "    </tr>\n",
       "    <tr>\n",
       "      <th>[91.0, 92.0)</th>\n",
       "      <td>3.0</td>\n",
       "      <td>1.732051</td>\n",
       "    </tr>\n",
       "    <tr>\n",
       "      <th>[92.0, 93.0)</th>\n",
       "      <td>4.0</td>\n",
       "      <td>2.000000</td>\n",
       "    </tr>\n",
       "    <tr>\n",
       "      <th>[93.0, 94.0)</th>\n",
       "      <td>4.0</td>\n",
       "      <td>2.000000</td>\n",
       "    </tr>\n",
       "    <tr>\n",
       "      <th>[94.0, 95.0)</th>\n",
       "      <td>3.0</td>\n",
       "      <td>1.732051</td>\n",
       "    </tr>\n",
       "    <tr>\n",
       "      <th>[95.0, 96.0)</th>\n",
       "      <td>0.0</td>\n",
       "      <td>0.000000</td>\n",
       "    </tr>\n",
       "    <tr>\n",
       "      <th>[96.0, 97.0)</th>\n",
       "      <td>3.0</td>\n",
       "      <td>1.732051</td>\n",
       "    </tr>\n",
       "    <tr>\n",
       "      <th>[97.0, 98.0)</th>\n",
       "      <td>2.0</td>\n",
       "      <td>1.414214</td>\n",
       "    </tr>\n",
       "    <tr>\n",
       "      <th>[98.0, 99.0)</th>\n",
       "      <td>1.0</td>\n",
       "      <td>1.000000</td>\n",
       "    </tr>\n",
       "    <tr>\n",
       "      <th>[99.0, 100.0)</th>\n",
       "      <td>1.0</td>\n",
       "      <td>1.000000</td>\n",
       "    </tr>\n",
       "    <tr>\n",
       "      <th>[100.0, inf)</th>\n",
       "      <td>28.0</td>\n",
       "      <td>5.291503</td>\n",
       "    </tr>\n",
       "    <tr>\n",
       "      <th>{NaN}</th>\n",
       "      <td>0.0</td>\n",
       "      <td>0.000000</td>\n",
       "    </tr>\n",
       "  </tbody>\n",
       "</table>\n",
       "<p>93 rows × 2 columns</p>\n",
       "</div>"
      ],
      "text/plain": [
       "               count()  err(count())\n",
       "mass                                \n",
       "[-inf, 10.0)    2242.0     47.349762\n",
       "[10.0, 11.0)      16.0      4.000000\n",
       "[11.0, 12.0)      28.0      5.291503\n",
       "[12.0, 13.0)      25.0      5.000000\n",
       "[13.0, 14.0)      14.0      3.741657\n",
       "[14.0, 15.0)      11.0      3.316625\n",
       "[15.0, 16.0)      13.0      3.605551\n",
       "[16.0, 17.0)      15.0      3.872983\n",
       "[17.0, 18.0)      18.0      4.242641\n",
       "[18.0, 19.0)      13.0      3.605551\n",
       "[19.0, 20.0)      24.0      4.898979\n",
       "[20.0, 21.0)      13.0      3.605551\n",
       "[21.0, 22.0)      20.0      4.472136\n",
       "[22.0, 23.0)      31.0      5.567764\n",
       "[23.0, 24.0)      22.0      4.690416\n",
       "[24.0, 25.0)      38.0      6.164414\n",
       "[25.0, 26.0)      32.0      5.656854\n",
       "[26.0, 27.0)      34.0      5.830952\n",
       "[27.0, 28.0)      28.0      5.291503\n",
       "[28.0, 29.0)      45.0      6.708204\n",
       "[29.0, 30.0)      32.0      5.656854\n",
       "[30.0, 31.0)      36.0      6.000000\n",
       "[31.0, 32.0)      33.0      5.744563\n",
       "[32.0, 33.0)      34.0      5.830952\n",
       "[33.0, 34.0)      35.0      5.916080\n",
       "[34.0, 35.0)      23.0      4.795832\n",
       "[35.0, 36.0)      42.0      6.480741\n",
       "[36.0, 37.0)      26.0      5.099020\n",
       "[37.0, 38.0)      37.0      6.082763\n",
       "[38.0, 39.0)      26.0      5.099020\n",
       "...                ...           ...\n",
       "[72.0, 73.0)       4.0      2.000000\n",
       "[73.0, 74.0)       2.0      1.414214\n",
       "[74.0, 75.0)       2.0      1.414214\n",
       "[75.0, 76.0)       4.0      2.000000\n",
       "[76.0, 77.0)       4.0      2.000000\n",
       "[77.0, 78.0)       4.0      2.000000\n",
       "[78.0, 79.0)       1.0      1.000000\n",
       "[79.0, 80.0)       3.0      1.732051\n",
       "[80.0, 81.0)       1.0      1.000000\n",
       "[81.0, 82.0)       1.0      1.000000\n",
       "[82.0, 83.0)       2.0      1.414214\n",
       "[83.0, 84.0)       3.0      1.732051\n",
       "[84.0, 85.0)       2.0      1.414214\n",
       "[85.0, 86.0)       4.0      2.000000\n",
       "[86.0, 87.0)       3.0      1.732051\n",
       "[87.0, 88.0)       7.0      2.645751\n",
       "[88.0, 89.0)       1.0      1.000000\n",
       "[89.0, 90.0)       1.0      1.000000\n",
       "[90.0, 91.0)       2.0      1.414214\n",
       "[91.0, 92.0)       3.0      1.732051\n",
       "[92.0, 93.0)       4.0      2.000000\n",
       "[93.0, 94.0)       4.0      2.000000\n",
       "[94.0, 95.0)       3.0      1.732051\n",
       "[95.0, 96.0)       0.0      0.000000\n",
       "[96.0, 97.0)       3.0      1.732051\n",
       "[97.0, 98.0)       2.0      1.414214\n",
       "[98.0, 99.0)       1.0      1.000000\n",
       "[99.0, 100.0)      1.0      1.000000\n",
       "[100.0, inf)      28.0      5.291503\n",
       "{NaN}              0.0      0.000000\n",
       "\n",
       "[93 rows x 2 columns]"
      ]
     },
     "execution_count": 7,
     "metadata": {},
     "output_type": "execute_result"
    }
   ],
   "source": [
    "h_mass.pandas()"
   ]
  },
  {
   "cell_type": "code",
   "execution_count": 9,
   "metadata": {
    "collapsed": false
   },
   "outputs": [
    {
     "data": {
      "text/plain": [
       "0"
      ]
     },
     "execution_count": 9,
     "metadata": {},
     "output_type": "execute_result"
    }
   ],
   "source": [
    "int(-0.4)"
   ]
  },
  {
   "cell_type": "code",
   "execution_count": 8,
   "metadata": {
    "collapsed": false
   },
   "outputs": [
    {
     "data": {
      "text/plain": [
       "array([  0.,   5.,  10.,  15.,  20.,  25.,  30.,  35.,  40.,  45.])"
      ]
     },
     "execution_count": 8,
     "metadata": {},
     "output_type": "execute_result"
    }
   ],
   "source": [
    "import numpy as np\n",
    "np.arange(10)*5.0"
   ]
  },
  {
   "cell_type": "code",
   "execution_count": 6,
   "metadata": {
    "collapsed": false
   },
   "outputs": [
    {
     "name": "stdout",
     "output_type": "stream",
     "text": [
      "D\n"
     ]
    }
   ],
   "source": [
    "class B:\n",
    "    def test(self):\n",
    "        print self.__class__.__name__\n",
    "        \n",
    "class D(B):\n",
    "    pass\n",
    "\n",
    "d = D()\n",
    "d.test()"
   ]
  },
  {
   "cell_type": "code",
   "execution_count": 9,
   "metadata": {
    "collapsed": false
   },
   "outputs": [
    {
     "name": "stdout",
     "output_type": "stream",
     "text": [
      "[ 0.31795505  0.84071748  0.49867921  0.82821155  0.64011022  0.16523232\n",
      "  0.89966512  0.217819    0.52535221  0.56096898  0.03879729  0.13073188\n",
      "  0.1967658   0.82442232  0.21027325  0.43648561  0.39004707  0.66791188\n",
      "  0.53800771  0.24144541]\n",
      "[ 0.84071748  0.49867921  0.82442232  0.13073188  0.217819  ]\n",
      "[ 0.84071748  0.49867921  0.217819    0.13073188  0.82442232]\n"
     ]
    }
   ],
   "source": [
    "import numpy as np\n",
    "x = np.random.random((20,))\n",
    "inx1 = [1,2,13,11,7]\n",
    "inx2 = np.array([False]*20)\n",
    "for i in inx1:\n",
    "    inx2[i] = True\n",
    "    \n",
    "x1 = x[inx1]\n",
    "x2 = x[inx2]\n",
    "\n",
    "print x\n",
    "print x1\n",
    "print x2"
   ]
  },
  {
   "cell_type": "code",
   "execution_count": 10,
   "metadata": {
    "collapsed": false
   },
   "outputs": [
    {
     "name": "stdout",
     "output_type": "stream",
     "text": [
      "[False  True False  True  True False  True False  True  True False False\n",
      " False  True False False False  True  True False]\n"
     ]
    }
   ],
   "source": [
    "print x > 0.5"
   ]
  },
  {
   "cell_type": "code",
   "execution_count": 11,
   "metadata": {
    "collapsed": false
   },
   "outputs": [
    {
     "data": {
      "text/plain": [
       "array([ 0.84071748,  0.82821155,  0.64011022,  0.89966512,  0.52535221,\n",
       "        0.56096898,  0.82442232,  0.66791188,  0.53800771])"
      ]
     },
     "execution_count": 11,
     "metadata": {},
     "output_type": "execute_result"
    }
   ],
   "source": [
    "x[x>0.5]"
   ]
  },
  {
   "cell_type": "code",
   "execution_count": 17,
   "metadata": {
    "collapsed": false
   },
   "outputs": [
    {
     "name": "stdout",
     "output_type": "stream",
     "text": [
      "[False  True False  True False False  True False False False False False\n",
      " False  True False False False False False False]\n"
     ]
    }
   ],
   "source": [
    "print (x>0.5) * (x>0.7)"
   ]
  },
  {
   "cell_type": "code",
   "execution_count": 16,
   "metadata": {
    "collapsed": true
   },
   "outputs": [],
   "source": [
    "x1.base"
   ]
  },
  {
   "cell_type": "code",
   "execution_count": null,
   "metadata": {
    "collapsed": true
   },
   "outputs": [],
   "source": []
  }
 ],
 "metadata": {
  "kernelspec": {
   "display_name": "Python 2",
   "language": "python",
   "name": "python2"
  },
  "language_info": {
   "codemirror_mode": {
    "name": "ipython",
    "version": 2
   },
   "file_extension": ".py",
   "mimetype": "text/x-python",
   "name": "python",
   "nbconvert_exporter": "python",
   "pygments_lexer": "ipython2",
   "version": "2.7.13"
  }
 },
 "nbformat": 4,
 "nbformat_minor": 0
}
