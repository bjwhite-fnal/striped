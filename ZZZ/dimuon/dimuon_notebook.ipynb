{
 "cells": [
  {
   "cell_type": "code",
   "execution_count": 1,
   "metadata": {
    "collapsed": false
   },
   "outputs": [],
   "source": [
    "import matplotlib.pyplot as plt\n",
    "\n",
    "%matplotlib inline  "
   ]
  },
  {
   "cell_type": "code",
   "execution_count": 2,
   "metadata": {
    "collapsed": false
   },
   "outputs": [],
   "source": [
    "from QWorker import LocalStripedJob\n",
    "from Q import cosh, sqrt, cos, max_in_group\n",
    "import math\n",
    "\n",
    "class DimuonWorker(object):\n",
    "\n",
    "    def columns(self):\n",
    "        return [\"Muon.pt\", \"Muon.eta\", \"Muon.phi\", \"Muon.q\"]\n",
    "\n",
    "    def init(self, dataset, my_id):\n",
    "\n",
    "        m = dataset.event.Muon\n",
    "        m.p = m.pt * cosh(m.eta)\n",
    "\n",
    "        pair = dataset.event.Muon.pair\n",
    "        m1, m2 = pair\n",
    "        pair.M = sqrt(2*m1.pt*m2.pt*(cosh(m1.eta-m2.eta) - cos(m1.phi-m2.phi)))  \n",
    "        pair.C = m1.q * m2.q\n",
    "        pair.MaxP = max_in_group(pair.items.p)\n",
    "\n",
    "    def run(self, events, emit):\n",
    "        for e in events:\n",
    "            for pair in e.Muon.pairs.iterate():\n",
    "                m1, m2 = pair.asTuple()\n",
    "                if pair.C < 0 and pair.MaxP < 1000:     \n",
    "                    M = pair.M  \n",
    "                    if M < 120 and M > 60:\n",
    "                        emit(\"mass\", M)\n",
    "                        if M < 92 and M > 88:\n",
    "                            emit(\"momentum\", m2.p)\n",
    "\n",
    "\n",
    "        \n",
    "\n",
    "class DimuonJob(LocalStripedJob):\n",
    "\n",
    "    def __init__(self, url_head, dataset_name):\n",
    "        LocalStripedJob.__init__(self, url_head, dataset_name, DimuonWorker)\n",
    "\n",
    "        self.Masses = []\n",
    "        self.Momentums = []\n",
    "    \n",
    "    def dataReceived(self, wid, key, data, nevents):\n",
    "        #print \"dataReceived(%s, %s)\" % (key, data.shape)\n",
    "        if key == \"momentum\":   self.Momentums += list(data.reshape((-1,)))\n",
    "        elif key == \"mass\":     self.Masses += list(data.reshape((-1,)))\n",
    "\n",
    "    def initDisplay(self, figure, ipython):\n",
    "        self.Fig = figure\n",
    "        self.MassHist = self.Fig.add_subplot(2,1,1,)\n",
    "        self.MomentumHist = self.Fig.add_subplot(2,1,2)\n",
    "        self.Bins = 120\n",
    "        return True     # do animate\n",
    "        \n",
    "    def updateDisplay(self, iframe):\n",
    "    \n",
    "        if self.Masses:\n",
    "            self.MassHist.clear()\n",
    "            self.MassHist.hist(self.Masses, bins=self.Bins)\n",
    "            self.MassHist.set_title(r\"Dimuon mass($\\mu^+,\\mu^-$)\")\n",
    "        \n",
    "        if self.Momentums:\n",
    "            self.MomentumHist.clear()\n",
    "            self.MomentumHist.hist(self.Momentums, bins=self.Bins)\n",
    "            if self.Momentums:  self.MomentumHist.set_yscale(\"log\")\n",
    "            self.MomentumHist.set_title(\"Muon momentum\")\n",
    "\n",
    "    def jobFinished(self, total_events):\n",
    "        print \"-- Job finished. %d events processed --\" % (total_events,)\n",
    "\n",
    "\n",
    "\n"
   ]
  },
  {
   "cell_type": "code",
   "execution_count": 3,
   "metadata": {
    "collapsed": false
   },
   "outputs": [
    {
     "data": {
      "image/png": "[encoded data removed]",
      "text/plain": [
       "<matplotlib.figure.Figure at 0x2b7e86584690>"
      ]
     },
     "metadata": {},
     "output_type": "display_data"
    },
    {
     "name": "stdout",
     "output_type": "stream",
     "text": [
      "Worker 1 exited with status 0, time=93.397 seconds\n",
      "-- Job finished. 16923227 events processed --\n"
     ]
    },
    {
     "data": {
      "image/png": "[encoded data removed]",
      "text/plain": [
       "<matplotlib.figure.Figure at 0x2b7e86584690>"
      ]
     },
     "metadata": {},
     "output_type": "display_data"
    }
   ],
   "source": [
    "job = DimuonJob(\"http://dbweb7.fnal.gov:9091/striped/app\", \"METRun2015D_16Dec2015_v1\")\n",
    "job.start(15)\n",
    "job.wait()"
   ]
  },
  {
   "cell_type": "code",
   "execution_count": null,
   "metadata": {
    "collapsed": true
   },
   "outputs": [],
   "source": []
  }
 ],
 "metadata": {
  "kernelspec": {
   "display_name": "Python 2",
   "language": "python",
   "name": "python2"
  },
  "language_info": {
   "codemirror_mode": {
    "name": "ipython",
    "version": 2
   },
   "file_extension": ".py",
   "mimetype": "text/x-python",
   "name": "python",
   "nbconvert_exporter": "python",
   "pygments_lexer": "ipython2",
   "version": "2.7.13"
  }
 },
 "nbformat": 4,
 "nbformat_minor": 0
}
