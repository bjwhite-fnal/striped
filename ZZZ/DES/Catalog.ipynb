{
 "cells": [
  {
   "cell_type": "code",
   "execution_count": 3,
   "metadata": {},
   "outputs": [
    {
     "ename": "ImportError",
     "evalue": "No module named striped.job",
     "output_type": "error",
     "traceback": [
      "\u001b[0;31m---------------------------------------------------------------------------\u001b[0m",
      "\u001b[0;31mImportError\u001b[0m                               Traceback (most recent call last)",
      "\u001b[0;32m<ipython-input-3-625b79458185>\u001b[0m in \u001b[0;36m<module>\u001b[0;34m()\u001b[0m\n\u001b[1;32m      1\u001b[0m \u001b[0;32mimport\u001b[0m \u001b[0mfitsio\u001b[0m\u001b[0;34m,\u001b[0m \u001b[0mglob\u001b[0m\u001b[0;34m,\u001b[0m \u001b[0mhealpy\u001b[0m \u001b[0;32mas\u001b[0m \u001b[0mhp\u001b[0m\u001b[0;34m\u001b[0m\u001b[0m\n\u001b[1;32m      2\u001b[0m \u001b[0;32mimport\u001b[0m \u001b[0mnumpy\u001b[0m \u001b[0;32mas\u001b[0m \u001b[0mnp\u001b[0m\u001b[0;34m\u001b[0m\u001b[0m\n\u001b[0;32m----> 3\u001b[0;31m \u001b[0;32mfrom\u001b[0m \u001b[0mstriped\u001b[0m\u001b[0;34m.\u001b[0m\u001b[0mjob\u001b[0m \u001b[0;32mimport\u001b[0m \u001b[0mSinglePointStripedSession\u001b[0m \u001b[0;32mas\u001b[0m \u001b[0mSession\u001b[0m\u001b[0;34m,\u001b[0m \u001b[0mIPythonDisplay\u001b[0m\u001b[0;34m\u001b[0m\u001b[0m\n\u001b[0m\u001b[1;32m      4\u001b[0m \u001b[0;34m\u001b[0m\u001b[0m\n\u001b[1;32m      5\u001b[0m \u001b[0;34m\u001b[0m\u001b[0m\n",
      "\u001b[0;31mImportError\u001b[0m: No module named striped.job"
     ]
    }
   ],
   "source": [
    "import fitsio, glob, healpy as hp\n",
    "import numpy as np\n",
    "from striped.job import SinglePointStripedSession as Session, IPythonDisplay\n",
    "\n",
    "\n",
    "# Find the catalogs for all CCDs in the exposure\n",
    "filename = sorted(glob.glob('/data/kadrlica/bliss/566500/566500/*_fullcat.fits'))[0]\n",
    "# Read only the position columns\n",
    "columns = ['ALPHAWIN_J2000','DELTAWIN_J2000']\n",
    "# Read each CCD and concatenate into one array\n",
    "data = fitsio.read(filename,ext=2,columns=columns)\n"
   ]
  },
  {
   "cell_type": "code",
   "execution_count": 7,
   "metadata": {},
   "outputs": [
    {
     "data": {
      "text/plain": [
       "array([2778844335, 2778844331, 2778847791, ..., 2778824536, 2778823849,\n",
       "       2778999340])"
      ]
     },
     "execution_count": 7,
     "metadata": {},
     "output_type": "execute_result"
    }
   ],
   "source": [
    "hpix = hp.ang2pix(nside=16384,theta=data['ALPHAWIN_J2000'],phi=data['DELTAWIN_J2000'],\n",
    "        lonlat=True, nest=True)\n",
    "\n",
    "inp = \n"
   ]
  },
  {
   "cell_type": "code",
   "execution_count": 8,
   "metadata": {},
   "outputs": [],
   "source": [
    "f_hpix = np.asarray(hpix, dtype=np.float64)\n",
    "hpix_1 = np.asarray(f_hpix, dtype=np.int64)"
   ]
  },
  {
   "cell_type": "code",
   "execution_count": 9,
   "metadata": {},
   "outputs": [
    {
     "data": {
      "text/plain": [
       "False"
      ]
     },
     "execution_count": 9,
     "metadata": {},
     "output_type": "execute_result"
    }
   ],
   "source": [
    "np.any(hpix_1 != hpix)"
   ]
  },
  {
   "cell_type": "code",
   "execution_count": 10,
   "metadata": {},
   "outputs": [],
   "source": [
    "data = fitsio.read(filename,ext=2)"
   ]
  },
  {
   "cell_type": "code",
   "execution_count": 11,
   "metadata": {},
   "outputs": [
    {
     "data": {
      "text/plain": [
       "array([ (    1, 17,  0.02677512,  1880.48876953,    17.31856155, 1876, 1885,   17,   18,  5.25451392,  0.21708018, -0.01395638,   1.16247999e-09,   2.78825952e-08,   4.11545979e-10,  0.0399527 ,  0.00152576,   1.30189524e-06,   8.16643754e-12,   2.12010878e-10,   2.56445135e-12,  2.5326406 ,  1.32323869, -0.05232429,  0.01074556,  0.01030363,  -2.31881314e-06,   7.05938757e-09,   1.34374733e-08,   3.77269784e-10,   5.49347873e-11,   5.70267165e-11,   1.87765531e-13,  0.79676265,  0.00044955,  1880.57540312,    15.99828818,  0.10366084,  0.10150675,  -0.30062413,  251.67993895, -43.14652584,  251.67980672, -43.14653121,   7.55271049e-06,   7.41067242e-06,   5.08850861, 1880,   17,  251.67990768, -43.14649001,  2.29228115,  0.46587715,  -0.15873829,   0.88219452,  4.92035532,  2.23310161,  16.74892235,   9.29321796e-02, 14, 18,   7.44695896e-08,   9.57466213e-08, [   487.37762451,   2027.9831543 ,   3424.97021484,   4595.95751953,   6441.86181641,   7436.421875  ,   7760.50683594,   7441.61865234,   6611.51318359,   7604.16210938,  14865.02832031,  17763.953125  ], [   74.8638916 ,   137.40220642,   202.34562683,   265.80804443,   379.06964111,   477.1706543 ,   564.73095703,   654.17913818,   741.47460938,   822.6965332 ,  1154.26672363,  1734.94873047], [ 18.28033638,  16.73233986,  16.16335869,  15.84405994,  15.47747135,  15.32159042,  15.27527428,  15.3208313 ,  15.44924736,  15.29737186,  14.5695858 ,  14.37615108], [  1.66815594e-01,   7.35799000e-02,   6.41603693e-02,   6.28090054e-02,   6.39053807e-02,   6.96850345e-02,   7.90280551e-02,   9.54682827e-02,   1.21793821e-01,   1.17494658e-01,   8.43276978e-02,   1.06066152e-01],  5350.98681641,  425.85369873,  15.67891502,   8.64283815e-02,  5.85394001,  -7.0905652 ,  58.14878082,  17.68725777,  224.82281494,  16.21653938,  1880.48873319,    17.31856181,  0.        ,  0.        ,   0.        ,  251.67993895, -43.14652584,   0.00000000e+00,   0.00000000e+00,  45.        ,     0.        ,    0.        ,  99.        ,  99.        , 0,   0.00000000e+00,  0.00098214,  0.0008413 ,  0.55055565,  1.13338387,   8.26613541e-05,  13.20015812,  4096, 2),\n",
       "       (    2, 17,  0.01891685,  2002.00830078,    17.24766731, 1998, 2006,   17,   18,  4.28261571,  0.18632845,  0.02117464,   9.95435700e-10,   2.27262102e-08,   1.62689903e-10,  0.04201858,  0.00201723,   6.14106675e-06,   1.07880666e-11,   2.22966225e-10,   2.65854742e-12,  2.6753542 ,  1.06209213,  0.07728037,  0.01699851,  0.01664906,  -1.67513719e-05,   5.65884816e-09,   1.42008855e-08,  -2.88134777e-10,   8.87676272e-11,   9.02074624e-11,   3.55043108e-13,  0.79147804,  0.00041057,  2001.86511624,    15.99585653,  0.13038142,  0.12902813,  -2.73816395,  251.67977991, -43.15537791,  251.67965481, -43.15536659,   9.50211779e-06,   9.41726285e-06,  13.12561035, 2001,   17,  251.67975639, -43.15530428,  2.0694747 ,  0.43153098,   0.29616436,   0.42891693,  4.79565716,  2.25136924,  16.99642563,   1.03662349e-01, 11, 14,   5.85111124e-08,   7.44686872e-08, [   349.50335693,   1719.5333252 ,   2802.43432617,   3321.13183594,   3899.66625977,   3697.69848633,   4756.15087891,   5600.13916016,   6951.44921875,   8075.09570312,  11062.09179688,  26023.62109375], [   76.42414856,   139.87516785,   202.02633667,   266.25527954,   393.11135864,   521.50421143,   650.80932617,   775.08770752,   891.97210693,  1004.08666992,  1333.92797852,  1551.03259277], [ 18.64137077,  16.91147423,  16.38116074,  16.19678497,  16.02243233,  16.08017159,  15.80686092,  15.62950325,  15.39481163,  15.232131  ,  14.89040661,  13.96158028], [  2.37470180e-01,   8.83404911e-02,   7.82893002e-02,   8.70646611e-02,   1.09475762e-01,   1.53163806e-01,   1.48603141e-01,   1.50307924e-01,   1.39349610e-01,   1.35037169e-01,   1.30955860e-01,   6.47266358e-02],  4572.67041016,  407.57345581,  15.84957504,   9.67978761e-02,  6.22313023,  -7.53599739,  57.64732361,  17.69582939,  225.49615479,  16.21327972,  2002.00825191,    17.24766777,  0.        ,  0.        ,   0.        ,  251.67977991, -43.15537791,   0.00000000e+00,   0.00000000e+00,  45.        ,     0.        ,    0.        ,  99.        ,  99.        , 0,   0.00000000e+00,  0.00116927,  0.00102511,  0.51103473,  1.13338387,   8.26608521e-05,  13.34961605, 16384, 2),\n",
       "       (    3, 17,  0.01719904,   188.44197083,    17.71076775,  186,  191,   17,   19,  1.76874184,  0.53338016, -0.10560739,   2.85133291e-09,   9.39760997e-09,   6.44109470e-10,  0.01545555,  0.00356842,  -7.71971967e-04,   1.90828274e-11,   8.21255588e-11,   4.88621624e-12,  1.15181643,  1.14904894, -0.12364775,  0.01381889,  0.01395304,  -3.02891303e-05,   6.13400397e-09,   6.11720174e-09,   6.66921148e-10,   7.43928208e-11,   7.34718283e-11,   2.57002410e-13,  0.45686394,  0.00026417,   188.55169274,    16.995561  ,  0.11815058,  0.11752602, -77.84906006,  251.68203935, -43.02322367,  251.68196779, -43.02323113,   8.62900288e-06,   8.56767019e-06,  75.41708374,  189,   17,  251.68196771, -43.02326382,  1.33330595,  0.72416651,  -4.85113859,   5.56639099,  1.84115934,  1.77214396,  16.6774826 ,   8.00842494e-02, 14, 15,   7.45387467e-08,   7.98629358e-08, [   652.63024902,   1957.96130371,   2997.14624023,   3526.85693359,   3919.88964844,   3852.41821289,   2454.51220703,   2170.2956543 ,   -534.61016846,  -3329.36767578,  -1786.58496094,   3047.56933594], [   73.50102234,   137.30422974,   199.82824707,   262.13848877,   388.94854736,   510.14334106,   626.62609863,   746.94848633,   878.0168457 ,  1007.4206543 ,  1386.23962402,  1867.4720459 ], [ 17.96333122,  16.77049065,  16.30822945,  16.13153076,  16.01681519,  16.03566551,  16.52508736,  16.65870285,  99.        ,  99.        ,  99.        ,  16.29011536], [  1.22308321e-01,   7.61569664e-02,   7.24067017e-02,   8.07184428e-02,   1.07757658e-01,   1.43809840e-01,   2.77251005e-01,   3.73767555e-01,   9.90000000e+01,   9.90000000e+01,   9.90000000e+01,   6.65472865e-01],  3680.20361328,  319.09133911,  16.08531952,   9.41614211e-02,  4.66695023, -27.95764351,  58.04584122,  17.69166756,  293.14276123,  15.92945004,   188.44197409,    17.71076746,  0.        ,  0.        ,   0.        ,  251.68203935, -43.02322367,   0.00000000e+00,   0.00000000e+00,  45.        ,     0.        ,    0.        ,  99.        ,  99.        , 0,   0.00000000e+00, -0.00339067,  0.00253476,  0.55375618,  1.13338387,   8.26997202e-05,  15.52757835,     0, 2),\n",
       "       ...,\n",
       "       (19310,  3,  0.01087499,   708.55877686,  3793.2277832 ,  707,  711, 3792, 3795,  1.27970619,  0.98236459, -0.19661811,   5.25215132e-09,   6.77904690e-09,   1.06300419e-09,  0.01940118,  0.01467788,  -2.74052821e-03,   7.84668987e-11,   1.02782430e-10,   1.48442213e-11,  1.4758628 ,  1.33292083, -0.23864662,  0.05091637,  0.05071553,  -1.62104267e-04,   7.12523344e-09,   7.81781309e-09,   1.28274968e-09,   2.70762005e-10,   2.69970224e-10,   1.16320684e-12,  0.19867867,  0.00032295,   708.39475674,  3793.22110713,  0.22584648,  0.22500058, -29.11134148,  252.05884753, -43.06336045,  252.05884698, -43.0633485 ,   1.64801349e-05,   1.64054072e-05,  54.39784241,  709, 3793,  252.05882443, -43.06339248,  1.173684  ,  0.94049799, -26.45280838,  27.15707779,  1.24793887,  2.0093677 ,  17.07047653,   1.16847426e-01, 11, 16,   5.85253801e-08,   8.51278230e-08, [   418.9286499 ,   1157.53369141,   1838.40209961,   2345.44946289,   2512.98608398,   1823.30334473,    707.70880127,   -848.71551514,  -2177.49023438,  -2180.95507812,  -1368.61437988,  -8664.43164062], [   69.89109802,   133.39424133,   196.54269409,   260.17559814,   386.38766479,   513.4677124 ,   640.86322021,   767.86151123,   895.59686279,  1023.64447021,  1523.66564941,  2210.95214844], [ 18.44465065,  17.34116554,  16.83889961,  16.57443428,  16.49952507,  16.84785271,  17.8753643 ,  99.        ,  99.        ,  99.        ,  99.        ,  99.        ], [  1.81180581e-01,   1.25150695e-01,   1.16103746e-01,   1.20467618e-01,   1.66979447e-01,   3.05832773e-01,   9.83423471e-01,   9.90000000e+01,   9.90000000e+01,   9.90000000e+01,   9.90000000e+01,   9.90000000e+01],  2525.88574219,  331.10852051,  16.49396515,   1.42359510e-01,  4.53328943,  -7.93079472,  58.00530243,  17.69172668,  190.00863647,  16.39945793,   708.37474032,  3793.28950771,  0.29105458,  0.25065684, -48.20138168,  252.05885383, -43.06334708,   2.12443010e-05,   1.82698623e-05,  49.01835632,  3385.06469727,  313.32092285,  16.17608261,   0.10051995, 0,   4.37194760e-11, -0.00406697,  0.00416782,  0.47494027,  1.13338387,   8.26709293e-05,  16.20194817,     0, 0),\n",
       "       (19311, 17,  0.02277303,  2035.71655273,  3680.99462891, 2030, 2036, 3678, 3689,  0.20312731,  3.0034696 ,  0.00983874,   1.60445107e-08,   1.07757201e-09,  -1.42190403e-10,  0.00316472,  0.0388671 ,  -1.72129561e-07,   2.07632988e-10,   1.67820057e-11,  -1.14030973e-12,  0.20312731,  3.0034696 ,  0.00983874,  0.00316472,  0.0388671 ,  -1.72129561e-07,   1.60445107e-08,   1.07757201e-09,  -1.42190403e-10,   2.07632988e-10,   1.67820057e-11,  -1.14030973e-12,  0.73996425,  0.        ,  2035.71650102,  3680.9946381 ,  0.1971474 ,  0.05625587, -89.99972534,  252.04663919, -43.15993467,  252.04663919, -43.15993467,   1.44097121e-05,   4.09575296e-06, -89.65768433, 2036, 3681,  252.04663952, -43.15995531,  1.73306203,  0.45065811,  89.79869843, -89.45574188,  3.84562492,  0.        ,  16.86543655,   2.17247030e+12,  0, 19,   0.00000000e+00,   1.01107581e-07, [     0.        ,      0.        ,    180.55715942,    393.00192261,    678.11810303,   1517.64025879,   2799.95581055,   3292.81347656,   3390.53442383,   3004.9140625 ,   3653.07910156,  -1562.70031738], [    0.        ,    12.59519768,    80.04286957,   148.66505432,   282.56680298,   412.16082764,   530.27539062,   627.61968994,   708.1975708 ,   782.70965576,  1084.54833984,  1564.32104492], [ 99.        ,  99.        ,  19.35846329,  18.51401329,  17.92173576,  17.04707718,  16.38212204,  16.20608139,  16.17432976,  16.30541992,  16.09335136,  99.        ], [  9.90000000e+01,   9.90000000e+01,   4.81435090e-01,   4.10812885e-01,   4.52528179e-01,   2.94935942e-01,   2.05674335e-01,   2.06994697e-01,   2.26838142e-01,   2.82877535e-01,   3.22418272e-01,   9.90000000e+01],  -156.890625  ,  208.51602173,  99.        ,   9.90000000e+01,  0.        , -18.33469391,  56.64142609, -15.84364033,  162.16297913,  16.57170868,  2035.71650102,  3680.9946381 ,  0.        ,  0.        ,   0.        ,  252.04663919, -43.15993467,   2.12496307e-05,   1.82682215e-05,  49.11311722,     0.        ,    0.        ,  99.        ,  99.        , 0,   0.00000000e+00,  0.00691368,  0.00653188,  0.5598495 ,  1.13338387,   8.26784017e-05,  16.68507957,  8705, 3),\n",
       "       (19312,  0,  0.01568985,   263.51300049,  3670.99389648,  262,  265, 3670, 3672,  0.82840993,  0.58800416, -0.22799224,   3.14727450e-09,   4.38706163e-09,   1.22546985e-09,  0.01741755,  0.01007204,  -4.96780374e-03,   5.39522060e-11,   9.22329856e-11,   2.67686526e-11,  0.67794703,  0.8241076 , -0.10343332,  0.03294178,  0.03323508,  -9.77674832e-05,   4.40253044e-09,   3.59306416e-09,   5.49117710e-10,   1.77392028e-10,   1.74750217e-10,   6.86879642e-13,  0.31710202,  0.00025622,   263.49057743,  3671.03247904,  0.18238609,  0.18141715, -73.15496063,  252.0469475 , -43.03089572,  252.04695136, -43.0308941 ,   1.33251624e-05,   1.32129599e-05,  76.26263428,  264, 3671,  252.04694775, -43.03093119,  0.98282534,  0.67116946, -31.10037231,  31.58390808,  1.46434748,  1.48028278,  17.33777428,   1.19405411e-01,  8, 10,   4.25689706e-08,   5.32112132e-08, [   424.22683716,   1189.30175781,   1592.5637207 ,   1719.52368164,   1333.25915527,   -588.4385376 ,  -2691.07495117,  -4696.86572266,  -5836.04248047,  -6928.27490234,  -9211.44238281, -13225.01367188], [   70.01399994,   134.03756714,   195.90892029,   259.1446228 ,   386.42285156,   513.17938232,   641.38934326,   769.17718506,   886.31652832,   996.33380127,  1501.8626709 ,  2250.94189453], [ 18.43100548,  17.31176949,  16.99475861,  16.91147995,  17.18771362,  99.        ,  99.        ,  99.        ,  99.        ,  99.        ,  99.        ,  99.        ], [  1.79232419e-01,   1.22395165e-01,   1.33594081e-01,   1.63668022e-01,   3.14758927e-01,   9.90000000e+01,   9.90000000e+01,   9.90000000e+01,   9.90000000e+01,   9.90000000e+01,   9.90000000e+01,   9.90000000e+01],  1782.26574707,  299.73742676,  16.87256813,   1.82641029e-01,  5.25327396, -20.05852699,  58.22235107,  17.68641472,  175.05813599,  16.48856544,   263.36266668,  3671.20162244,  0.33780369,  0.28340596, -52.98100281,  252.04696836, -43.03088486,   2.46599338e-05,   2.06572222e-05,  53.6207962 ,  2935.96166992,  314.20834351,  16.33062363,   0.11622436, 0,   9.60056756e-11, -0.01572299,  0.00554934,  0.51702303,  1.13338387,   8.26758405e-05,  16.43643379,     0, 0)],\n",
       "      dtype=[('NUMBER', '>i4'), ('FLAGS', '>i2'), ('DURATION_ANALYSIS', '>f4'), ('X_IMAGE', '>f4'), ('Y_IMAGE', '>f4'), ('XMIN_IMAGE', '>i4'), ('XMAX_IMAGE', '>i4'), ('YMIN_IMAGE', '>i4'), ('YMAX_IMAGE', '>i4'), ('X2_IMAGE', '>f8'), ('Y2_IMAGE', '>f8'), ('XY_IMAGE', '>f8'), ('X2_WORLD', '>f8'), ('Y2_WORLD', '>f8'), ('XY_WORLD', '>f8'), ('ERRX2_IMAGE', '>f8'), ('ERRY2_IMAGE', '>f8'), ('ERRXY_IMAGE', '>f8'), ('ERRX2_WORLD', '>f8'), ('ERRY2_WORLD', '>f8'), ('ERRXY_WORLD', '>f8'), ('X2WIN_IMAGE', '>f8'), ('Y2WIN_IMAGE', '>f8'), ('XYWIN_IMAGE', '>f8'), ('ERRX2WIN_IMAGE', '>f8'), ('ERRY2WIN_IMAGE', '>f8'), ('ERRXYWIN_IMAGE', '>f8'), ('X2WIN_WORLD', '>f8'), ('Y2WIN_WORLD', '>f8'), ('XYWIN_WORLD', '>f8'), ('ERRX2WIN_WORLD', '>f8'), ('ERRY2WIN_WORLD', '>f8'), ('ERRXYWIN_WORLD', '>f8'), ('ELLIPTICITY', '>f4'), ('FWHM_WORLD', '>f4'), ('XWIN_IMAGE', '>f8'), ('YWIN_IMAGE', '>f8'), ('ERRAWIN_IMAGE', '>f4'), ('ERRBWIN_IMAGE', '>f4'), ('ERRTHETAWIN_IMAGE', '>f4'), ('ALPHA_J2000', '>f8'), ('DELTA_J2000', '>f8'), ('ALPHAWIN_J2000', '>f8'), ('DELTAWIN_J2000', '>f8'), ('ERRAWIN_WORLD', '>f4'), ('ERRBWIN_WORLD', '>f4'), ('ERRTHETAWIN_J2000', '>f4'), ('XPEAK_IMAGE', '>i4'), ('YPEAK_IMAGE', '>i4'), ('ALPHAPEAK_J2000', '>f8'), ('DELTAPEAK_J2000', '>f8'), ('A_IMAGE', '>f4'), ('B_IMAGE', '>f4'), ('THETA_IMAGE', '>f4'), ('THETA_J2000', '>f4'), ('ELONGATION', '>f4'), ('FLUX_RADIUS', '>f4'), ('MAG_ISO', '>f4'), ('MAGERR_ISO', '>f4'), ('ISOAREA_IMAGE', '>i4'), ('ISOAREAF_IMAGE', '>i4'), ('ISOAREA_WORLD', '>f4'), ('ISOAREAF_WORLD', '>f4'), ('FLUX_APER', '>f4', (12,)), ('FLUXERR_APER', '>f4', (12,)), ('MAG_APER', '>f4', (12,)), ('MAGERR_APER', '>f4', (12,)), ('FLUX_AUTO', '>f4'), ('FLUXERR_AUTO', '>f4'), ('MAG_AUTO', '>f4'), ('MAGERR_AUTO', '>f4'), ('KRON_RADIUS', '>f4'), ('BACKGROUND', '>f4'), ('THRESHOLD', '>f4'), ('MU_THRESHOLD', '>f4'), ('FLUX_MAX', '>f4'), ('MU_MAX', '>f4'), ('XPSF_IMAGE', '>f8'), ('YPSF_IMAGE', '>f8'), ('ERRAPSF_IMAGE', '>f4'), ('ERRBPSF_IMAGE', '>f4'), ('ERRTHETAPSF_IMAGE', '>f4'), ('ALPHAPSF_J2000', '>f8'), ('DELTAPSF_J2000', '>f8'), ('ERRAPSF_WORLD', '>f4'), ('ERRBPSF_WORLD', '>f4'), ('ERRTHETAPSF_J2000', '>f4'), ('FLUX_PSF', '>f4'), ('FLUXERR_PSF', '>f4'), ('MAG_PSF', '>f4'), ('MAGERR_PSF', '>f4'), ('NITER_PSF', '>i2'), ('CHI2_PSF', '>f4'), ('SPREAD_MODEL', '>f4'), ('SPREADERR_MODEL', '>f4'), ('CLASS_STAR', '>f4'), ('FWHMPSF_IMAGE', '>f4'), ('FWHMPSF_WORLD', '>f4'), ('MAG_POINTSOURCE', '>f4'), ('IMAFLAGS_ISO', '>i4'), ('FLAGS_WEIGHT', '>i2')])"
      ]
     },
     "execution_count": 11,
     "metadata": {},
     "output_type": "execute_result"
    }
   ],
   "source": [
    "data"
   ]
  },
  {
   "cell_type": "code",
   "execution_count": 12,
   "metadata": {},
   "outputs": [
    {
     "data": {
      "text/plain": [
       "19312"
      ]
     },
     "execution_count": 12,
     "metadata": {},
     "output_type": "execute_result"
    }
   ],
   "source": [
    "len(data)"
   ]
  },
  {
   "cell_type": "code",
   "execution_count": 4,
   "metadata": {},
   "outputs": [
    {
     "data": {
      "image/png": "[encoded data removed]",
      "text/plain": [
       "<Figure size 612x388.8 with 2 Axes>"
      ]
     },
     "metadata": {},
     "output_type": "display_data"
    }
   ],
   "source": [
    "%matplotlib inline\n",
    "NSIDE=32\n",
    "npix = hp.nside2npix(NSIDE)\n",
    "m=np.array([1.0 if i < 1100 and i > 1010 else 0.0 for i in xrange(npix)])\n",
    "hp.mollview(m)"
   ]
  },
  {
   "cell_type": "code",
   "execution_count": null,
   "metadata": {},
   "outputs": [
    {
     "name": "stdout",
     "output_type": "stream",
     "text": [
      "12582912\n",
      "100\n",
      "200\n",
      "300\n",
      "400\n",
      "500\n",
      "600\n",
      "700\n",
      "800\n",
      "900\n",
      "1000\n",
      "1100\n",
      "1200\n"
     ]
    }
   ],
   "source": [
    "import glob\n",
    "NSIDE=1024\n",
    "npix = npix = hp.nside2npix(NSIDE)\n",
    "print npix\n",
    "m = np.zeros((npix,))\n",
    "\n",
    "for i, fn in enumerate(glob.glob(\"/data/kadrlica/y3a2/gold/2.0/healpix/*.fits\")):\n",
    "    data = fitsio.read(fn, columns=[\"ALPHAWIN_J2000\", \"DELTAWIN_J2000\"])\n",
    "    hpix = hp.ang2pix(nside=NSIDE,theta=data['ALPHAWIN_J2000'],phi=data['DELTAWIN_J2000'],\n",
    "        lonlat=True, nest=True)\n",
    "    m[hpix] = 1.0\n",
    "    if i and i % 100 == 0:\n",
    "            print i\n",
    "            \n",
    "\n",
    "    \n",
    "hp.mollview(m, nest=True)    "
   ]
  },
  {
   "cell_type": "code",
   "execution_count": null,
   "metadata": {},
   "outputs": [],
   "source": [
    "%matplotlib inline"
   ]
  },
  {
   "cell_type": "code",
   "execution_count": 22,
   "metadata": {},
   "outputs": [
    {
     "data": {
      "image/png": "[encoded data removed]",
      "text/plain": [
       "<Figure size 612x388.8 with 2 Axes>"
      ]
     },
     "metadata": {},
     "output_type": "display_data"
    }
   ],
   "source": [
    "hp.mollview(m, nest=True)    "
   ]
  },
  {
   "cell_type": "code",
   "execution_count": 21,
   "metadata": {},
   "outputs": [
    {
     "name": "stdout",
     "output_type": "stream",
     "text": [
      "100\n",
      "200\n",
      "300\n",
      "400\n",
      "500\n",
      "600\n",
      "700\n",
      "800\n",
      "900\n",
      "1000\n",
      "1100\n",
      "1200\n",
      "1300\n",
      "1400\n",
      "1500\n",
      "1600\n",
      "1700\n"
     ]
    }
   ],
   "source": [
    "for i, fn in enumerate(glob.glob(\"/data/kadrlica/y3a2/gold/2.0/healpix/*.fits\")):\n",
    "    if i > 1500:\n",
    "        data = fitsio.read(fn, columns=[\"ALPHAWIN_J2000\", \"DELTAWIN_J2000\"])\n",
    "        hpix = hp.ang2pix(nside=NSIDE,theta=data['ALPHAWIN_J2000'],phi=data['DELTAWIN_J2000'],\n",
    "            lonlat=True, nest=True)\n",
    "        m[hpix] = 1.0\n",
    "    if i and i % 100 == 0:\n",
    "            print i\n",
    "            \n"
   ]
  },
  {
   "cell_type": "code",
   "execution_count": 30,
   "metadata": {},
   "outputs": [
    {
     "data": {
      "text/plain": [
       "array([ 1.,  1.,  1., ...,  1.,  1.,  1.])"
      ]
     },
     "execution_count": 30,
     "metadata": {},
     "output_type": "execute_result"
    }
   ],
   "source": [
    "bliss_map = np.load(\"bliss_map.npz\")[\"map\"]\n",
    "type(bliss_map)\n",
    "bliss_map[bliss_map!=0]"
   ]
  },
  {
   "cell_type": "code",
   "execution_count": 1,
   "metadata": {},
   "outputs": [
    {
     "ename": "NameError",
     "evalue": "name 'm' is not defined",
     "output_type": "error",
     "traceback": [
      "\u001b[0;31m---------------------------------------------------------------------------\u001b[0m",
      "\u001b[0;31mNameError\u001b[0m                                 Traceback (most recent call last)",
      "\u001b[0;32m<ipython-input-1-071efd5201d0>\u001b[0m in \u001b[0;36m<module>\u001b[0;34m()\u001b[0m\n\u001b[0;32m----> 1\u001b[0;31m \u001b[0mcombined_map\u001b[0m \u001b[0;34m=\u001b[0m \u001b[0mm\u001b[0m\u001b[0;34m.\u001b[0m\u001b[0mcopy\u001b[0m\u001b[0;34m(\u001b[0m\u001b[0;34m)\u001b[0m\u001b[0;34m\u001b[0m\u001b[0m\n\u001b[0m\u001b[1;32m      2\u001b[0m \u001b[0mcombined_map\u001b[0m \u001b[0;34m+=\u001b[0m \u001b[0mbliss_map\u001b[0m\u001b[0;34m*\u001b[0m\u001b[0;36m2\u001b[0m\u001b[0;34m\u001b[0m\u001b[0m\n\u001b[1;32m      3\u001b[0m \u001b[0;34m\u001b[0m\u001b[0m\n\u001b[1;32m      4\u001b[0m \u001b[0mhp\u001b[0m\u001b[0;34m.\u001b[0m\u001b[0mmollview\u001b[0m\u001b[0;34m(\u001b[0m\u001b[0mcombined_map\u001b[0m\u001b[0;34m,\u001b[0m \u001b[0mnest\u001b[0m\u001b[0;34m=\u001b[0m\u001b[0mTrue\u001b[0m\u001b[0;34m,\u001b[0m \u001b[0mtitle\u001b[0m\u001b[0;34m=\u001b[0m\u001b[0;34m\"BLISS observations vs. Y3A2\"\u001b[0m\u001b[0;34m)\u001b[0m\u001b[0;34m\u001b[0m\u001b[0m\n",
      "\u001b[0;31mNameError\u001b[0m: name 'm' is not defined"
     ]
    }
   ],
   "source": [
    "combined_map = m.copy()\n",
    "combined_map += bliss_map*2\n",
    "\n",
    "hp.mollview(combined_map, nest=True, title=\"BLISS observations vs. Y3A2\")"
   ]
  },
  {
   "cell_type": "code",
   "execution_count": null,
   "metadata": {},
   "outputs": [],
   "source": []
  }
 ],
 "metadata": {
  "kernelspec": {
   "display_name": "Python 2",
   "language": "python",
   "name": "python2"
  },
  "language_info": {
   "codemirror_mode": {
    "name": "ipython",
    "version": 2
   },
   "file_extension": ".py",
   "mimetype": "text/x-python",
   "name": "python",
   "nbconvert_exporter": "python",
   "pygments_lexer": "ipython2",
   "version": "2.7.15"
  }
 },
 "nbformat": 4,
 "nbformat_minor": 2
}
