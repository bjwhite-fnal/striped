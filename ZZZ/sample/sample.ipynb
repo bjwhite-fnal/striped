{
 "cells": [
  {
   "cell_type": "code",
   "execution_count": null,
   "metadata": {
    "collapsed": true
   },
   "outputs": [],
   "source": [
    "from QWorker import DistributedStripedSession as Session\n",
    "from QWorker import IPythonDisplay\n",
    "from vega import VegaLite\n",
    "\n",
    "from histbook import Hist, beside, groupby, below, grid, overlay, bin\n",
    "\n",
    "registry_url = \"http://ifdb01.fnal.gov:9867\"\n",
    "data_server_url = \"http://dbweb7.fnal.gov:9091/striped/app\"\n"
   ]
  },
  {
   "cell_type": "markdown",
   "metadata": {},
   "source": [
    "The following class describes what will be executed by workers. However, you need to run this cell too.\n",
    "\n",
    "__Important__: do not remove the \"#_\\_worker\\_class_\\_\" line"
   ]
  },
  {
   "cell_type": "code",
   "execution_count": null,
   "metadata": {
    "collapsed": true
   },
   "outputs": [],
   "source": [
    "#__worker_class__\n",
    "\n",
    "class Worker(object):\n",
    "\n",
    "    def columns(self):\n",
    "        return [\"NJets\"]\n",
    "\n",
    "    def process(self, events, emit, params):\n",
    "        emit(NJets = events.NJets)\n",
    "        "
   ]
  },
  {
   "cell_type": "markdown",
   "metadata": {},
   "source": [
    "Start and run your jobs, one per dataset"
   ]
  },
  {
   "cell_type": "code",
   "execution_count": null,
   "metadata": {
    "collapsed": false
   },
   "outputs": [],
   "source": [
    "session = Session(data_server_url, registry_url)\n",
    "\n",
    "datasets = [\n",
    "    \"Summer16.GJets_HT-400To600_TuneCUETP8M1_13TeV-madgraphMLM-pythia8\",\n",
    "    \"Summer16.GJets_HT-600ToInf_TuneCUETP8M1_13TeV-madgraphMLM-pythia8\",\n",
    "    \"Summer16.QCD_HT1000to1500_TuneCUETP8M1_13TeV-madgraphMLM-pythia8\"\n",
    "]\n",
    "\n",
    "h_by_dataset = {\n",
    "    dataset: Hist(bin(\"NJets\", 10, 0, 10))\n",
    "    for dataset in datasets\n",
    "}\n",
    "\n",
    "h_combined = Hist(bin(\"NJets\", 20, 0, 20))\n",
    "\n",
    "for dataset_name in datasets:\n",
    "    job = session.createJob(dataset_name,\n",
    "                    histograms=[h_combined, h_by_dataset[dataset_name]])\n",
    "    job.run()\n",
    "    runtime = job.TFinish - job.TStart\n",
    "    nevents = job.EventsProcessed\n",
    "    print \"%s:\\n    %.4f million events\\n    %.4f million events/second\" % (dataset_name, nevents/1000000.0, nevents/runtime/1000000)\n",
    "    nworkers = len(job.WorkerAddresses)\n",
    "    \n"
   ]
  },
  {
   "cell_type": "markdown",
   "metadata": {},
   "source": [
    "Display results"
   ]
  },
  {
   "cell_type": "code",
   "execution_count": null,
   "metadata": {
    "collapsed": false
   },
   "outputs": [],
   "source": [
    "h_grouped = Hist.group(**h_by_dataset)\n",
    "\n",
    "beside(\n",
    "        h_grouped.stack(\"source\").area(\"NJets\"),\n",
    "        h_combined.line(\"NJets\", width=300, yscale={\"type\":\"log\"})\n",
    ").to(VegaLite)\n"
   ]
  },
  {
   "cell_type": "code",
   "execution_count": null,
   "metadata": {
    "collapsed": true
   },
   "outputs": [],
   "source": []
  }
 ],
 "metadata": {
  "kernelspec": {
   "display_name": "Python 2",
   "language": "python",
   "name": "python2"
  },
  "language_info": {
   "codemirror_mode": {
    "name": "ipython",
    "version": 2
   },
   "file_extension": ".py",
   "mimetype": "text/x-python",
   "name": "python",
   "nbconvert_exporter": "python",
   "pygments_lexer": "ipython2",
   "version": "2.7.12"
  }
 },
 "nbformat": 4,
 "nbformat_minor": 0
}
