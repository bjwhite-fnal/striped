{
 "cells": [
  {
   "cell_type": "code",
   "execution_count": 1,
   "metadata": {},
   "outputs": [],
   "source": [
    "from H import Hist, bin, category\n",
    "from HPlot import beside, below, grid\n",
    "import numpy as np\n",
    "from vega import VegaLite as canvas"
   ]
  },
  {
   "cell_type": "code",
   "execution_count": null,
   "metadata": {},
   "outputs": [],
   "source": [
    "histogram = Hist(bin(\"data\", 10, -5, 5))\n",
    "histogram.fill(data=np.random.normal(0, 1, 1000000))\n"
   ]
  },
  {
   "cell_type": "code",
   "execution_count": null,
   "metadata": {},
   "outputs": [],
   "source": [
    "histogram2 = Hist(bin(\"x\", 100, -5, 5), category(\"c\"))\n",
    "histogram2.fill(x=np.random.normal(1.5, 0.7, 10000), c=\"narrow\")\n",
    "histogram2.fill(x=np.random.normal(-1.5, 1.3, 10000), c=\"wide\")\n",
    "histogram2.step(\"x\", color=\"c\", stack=False, error=True, yscale=\"log\").to(canvas) "
   ]
  },
  {
   "cell_type": "code",
   "execution_count": null,
   "metadata": {},
   "outputs": [],
   "source": [
    "histogram2.step(\"x\", color=\"c\", stack=False, error=True, yscale=\"log\").plot()"
   ]
  },
  {
   "cell_type": "code",
   "execution_count": null,
   "metadata": {},
   "outputs": [],
   "source": [
    "histogram2.split(row=\"c\").area(\"x\").to(canvas)"
   ]
  },
  {
   "cell_type": "code",
   "execution_count": null,
   "metadata": {},
   "outputs": [],
   "source": [
    "histogram2.slice(c=\"narrow\").area(\"x\").to(canvas)"
   ]
  },
  {
   "cell_type": "code",
   "execution_count": null,
   "metadata": {},
   "outputs": [],
   "source": [
    "beside(histogram2.slice(c=\"narrow\").area(\"x\"), histogram2.slice(c=\"wide\").area(\"x\")).to(canvas)"
   ]
  },
  {
   "cell_type": "code",
   "execution_count": null,
   "metadata": {},
   "outputs": [],
   "source": [
    "beside(histogram2.slice(c=\"narrow\").area(\"x\"), histogram2.slice(c=\"wide\").area(\"x\")).plot()"
   ]
  },
  {
   "cell_type": "code",
   "execution_count": null,
   "metadata": {},
   "outputs": [],
   "source": [
    "histogram2 = Hist(bin(\"x\", 100, -5, 5), category(\"c\"))\n",
    "display = histogram2.split(column=\"c\").area(\"x\")\n"
   ]
  },
  {
   "cell_type": "code",
   "execution_count": null,
   "metadata": {},
   "outputs": [],
   "source": [
    "histogram2.fill(x=np.random.normal(-1.5, 1.3, 10000), c=\"wide\")\n",
    "display.to(canvas)"
   ]
  },
  {
   "cell_type": "code",
   "execution_count": null,
   "metadata": {},
   "outputs": [],
   "source": [
    "histogram2.fill(x=np.random.normal(1.5, 0.8, 10000), c=\"narrow\")\n",
    "display.to(canvas)"
   ]
  },
  {
   "cell_type": "code",
   "execution_count": 2,
   "metadata": {},
   "outputs": [
    {
     "data": {
      "application/javascript": [
       "var spec = {\"datasets\": {\"Hist_10438ad88\": [{\"__count\": 0.0, \"__hid\": \"Hist_10438ad88\", \"y\": -5.0, \"x\": -5.0, \"__error\": 0.0}, {\"__count\": 0.0, \"__hid\": \"Hist_10438ad88\", \"y\": -4.0, \"x\": -5.0, \"__error\": 0.0}, {\"__count\": 0.0, \"__hid\": \"Hist_10438ad88\", \"y\": -3.0, \"x\": -5.0, \"__error\": 0.0}, {\"__count\": 0.0, \"__hid\": \"Hist_10438ad88\", \"y\": -2.0, \"x\": -5.0, \"__error\": 0.0}, {\"__count\": 0.0, \"__hid\": \"Hist_10438ad88\", \"y\": -1.0, \"x\": -5.0, \"__error\": 0.0}, {\"__count\": 0.0, \"__hid\": \"Hist_10438ad88\", \"y\": 0.0, \"x\": -5.0, \"__error\": 0.0}, {\"__count\": 0.0, \"__hid\": \"Hist_10438ad88\", \"y\": 1.0, \"x\": -5.0, \"__error\": 0.0}, {\"__count\": 0.0, \"__hid\": \"Hist_10438ad88\", \"y\": 2.0, \"x\": -5.0, \"__error\": 0.0}, {\"__count\": 0.0, \"__hid\": \"Hist_10438ad88\", \"y\": 3.0, \"x\": -5.0, \"__error\": 0.0}, {\"__count\": 0.0, \"__hid\": \"Hist_10438ad88\", \"y\": 4.0, \"x\": -5.0, \"__error\": 0.0}, {\"__count\": 0.0, \"__hid\": \"Hist_10438ad88\", \"y\": -5.0, \"x\": -4.0, \"__error\": 0.0}, {\"__count\": 0.0, \"__hid\": \"Hist_10438ad88\", \"y\": -4.0, \"x\": -4.0, \"__error\": 0.0}, {\"__count\": 0.0, \"__hid\": \"Hist_10438ad88\", \"y\": -3.0, \"x\": -4.0, \"__error\": 0.0}, {\"__count\": 0.0, \"__hid\": \"Hist_10438ad88\", \"y\": -2.0, \"x\": -4.0, \"__error\": 0.0}, {\"__count\": 0.0, \"__hid\": \"Hist_10438ad88\", \"y\": -1.0, \"x\": -4.0, \"__error\": 0.0}, {\"__count\": 0.0, \"__hid\": \"Hist_10438ad88\", \"y\": 0.0, \"x\": -4.0, \"__error\": 0.0}, {\"__count\": 0.0, \"__hid\": \"Hist_10438ad88\", \"y\": 1.0, \"x\": -4.0, \"__error\": 0.0}, {\"__count\": 0.0, \"__hid\": \"Hist_10438ad88\", \"y\": 2.0, \"x\": -4.0, \"__error\": 0.0}, {\"__count\": 0.0, \"__hid\": \"Hist_10438ad88\", \"y\": 3.0, \"x\": -4.0, \"__error\": 0.0}, {\"__count\": 0.0, \"__hid\": \"Hist_10438ad88\", \"y\": 4.0, \"x\": -4.0, \"__error\": 0.0}, {\"__count\": 0.0, \"__hid\": \"Hist_10438ad88\", \"y\": -5.0, \"x\": -3.0, \"__error\": 0.0}, {\"__count\": 0.0, \"__hid\": \"Hist_10438ad88\", \"y\": -4.0, \"x\": -3.0, \"__error\": 0.0}, {\"__count\": 0.0, \"__hid\": \"Hist_10438ad88\", \"y\": -3.0, \"x\": -3.0, \"__error\": 0.0}, {\"__count\": 0.0, \"__hid\": \"Hist_10438ad88\", \"y\": -2.0, \"x\": -3.0, \"__error\": 0.0}, {\"__count\": 0.0, \"__hid\": \"Hist_10438ad88\", \"y\": -1.0, \"x\": -3.0, \"__error\": 0.0}, {\"__count\": 0.0, \"__hid\": \"Hist_10438ad88\", \"y\": 0.0, \"x\": -3.0, \"__error\": 0.0}, {\"__count\": 0.0, \"__hid\": \"Hist_10438ad88\", \"y\": 1.0, \"x\": -3.0, \"__error\": 0.0}, {\"__count\": 0.0, \"__hid\": \"Hist_10438ad88\", \"y\": 2.0, \"x\": -3.0, \"__error\": 0.0}, {\"__count\": 0.0, \"__hid\": \"Hist_10438ad88\", \"y\": 3.0, \"x\": -3.0, \"__error\": 0.0}, {\"__count\": 0.0, \"__hid\": \"Hist_10438ad88\", \"y\": 4.0, \"x\": -3.0, \"__error\": 0.0}, {\"__count\": 0.0, \"__hid\": \"Hist_10438ad88\", \"y\": -5.0, \"x\": -2.0, \"__error\": 0.0}, {\"__count\": 0.0, \"__hid\": \"Hist_10438ad88\", \"y\": -4.0, \"x\": -2.0, \"__error\": 0.0}, {\"__count\": 0.0, \"__hid\": \"Hist_10438ad88\", \"y\": -3.0, \"x\": -2.0, \"__error\": 0.0}, {\"__count\": 0.0, \"__hid\": \"Hist_10438ad88\", \"y\": -2.0, \"x\": -2.0, \"__error\": 0.0}, {\"__count\": 4.0, \"__hid\": \"Hist_10438ad88\", \"y\": -1.0, \"x\": -2.0, \"__error\": 2.0}, {\"__count\": 4.0, \"__hid\": \"Hist_10438ad88\", \"y\": 0.0, \"x\": -2.0, \"__error\": 2.0}, {\"__count\": 0.0, \"__hid\": \"Hist_10438ad88\", \"y\": 1.0, \"x\": -2.0, \"__error\": 0.0}, {\"__count\": 0.0, \"__hid\": \"Hist_10438ad88\", \"y\": 2.0, \"x\": -2.0, \"__error\": 0.0}, {\"__count\": 0.0, \"__hid\": \"Hist_10438ad88\", \"y\": 3.0, \"x\": -2.0, \"__error\": 0.0}, {\"__count\": 0.0, \"__hid\": \"Hist_10438ad88\", \"y\": 4.0, \"x\": -2.0, \"__error\": 0.0}, {\"__count\": 0.0, \"__hid\": \"Hist_10438ad88\", \"y\": -5.0, \"x\": -1.0, \"__error\": 0.0}, {\"__count\": 0.0, \"__hid\": \"Hist_10438ad88\", \"y\": -4.0, \"x\": -1.0, \"__error\": 0.0}, {\"__count\": 0.0, \"__hid\": \"Hist_10438ad88\", \"y\": -3.0, \"x\": -1.0, \"__error\": 0.0}, {\"__count\": 2.0, \"__hid\": \"Hist_10438ad88\", \"y\": -2.0, \"x\": -1.0, \"__error\": 1.4142135623730951}, {\"__count\": 14.0, \"__hid\": \"Hist_10438ad88\", \"y\": -1.0, \"x\": -1.0, \"__error\": 3.7416573867739413}, {\"__count\": 20.0, \"__hid\": \"Hist_10438ad88\", \"y\": 0.0, \"x\": -1.0, \"__error\": 4.47213595499958}, {\"__count\": 3.0, \"__hid\": \"Hist_10438ad88\", \"y\": 1.0, \"x\": -1.0, \"__error\": 1.7320508075688772}, {\"__count\": 0.0, \"__hid\": \"Hist_10438ad88\", \"y\": 2.0, \"x\": -1.0, \"__error\": 0.0}, {\"__count\": 0.0, \"__hid\": \"Hist_10438ad88\", \"y\": 3.0, \"x\": -1.0, \"__error\": 0.0}, {\"__count\": 0.0, \"__hid\": \"Hist_10438ad88\", \"y\": 4.0, \"x\": -1.0, \"__error\": 0.0}, {\"__count\": 0.0, \"__hid\": \"Hist_10438ad88\", \"y\": -5.0, \"x\": 0.0, \"__error\": 0.0}, {\"__count\": 0.0, \"__hid\": \"Hist_10438ad88\", \"y\": -4.0, \"x\": 0.0, \"__error\": 0.0}, {\"__count\": 0.0, \"__hid\": \"Hist_10438ad88\", \"y\": -3.0, \"x\": 0.0, \"__error\": 0.0}, {\"__count\": 2.0, \"__hid\": \"Hist_10438ad88\", \"y\": -2.0, \"x\": 0.0, \"__error\": 1.4142135623730951}, {\"__count\": 19.0, \"__hid\": \"Hist_10438ad88\", \"y\": -1.0, \"x\": 0.0, \"__error\": 4.358898943540674}, {\"__count\": 21.0, \"__hid\": \"Hist_10438ad88\", \"y\": 0.0, \"x\": 0.0, \"__error\": 4.58257569495584}, {\"__count\": 4.0, \"__hid\": \"Hist_10438ad88\", \"y\": 1.0, \"x\": 0.0, \"__error\": 2.0}, {\"__count\": 1.0, \"__hid\": \"Hist_10438ad88\", \"y\": 2.0, \"x\": 0.0, \"__error\": 0.9}, {\"__count\": 0.0, \"__hid\": \"Hist_10438ad88\", \"y\": 3.0, \"x\": 0.0, \"__error\": 0.0}, {\"__count\": 0.0, \"__hid\": \"Hist_10438ad88\", \"y\": 4.0, \"x\": 0.0, \"__error\": 0.0}, {\"__count\": 0.0, \"__hid\": \"Hist_10438ad88\", \"y\": -5.0, \"x\": 1.0, \"__error\": 0.0}, {\"__count\": 0.0, \"__hid\": \"Hist_10438ad88\", \"y\": -4.0, \"x\": 1.0, \"__error\": 0.0}, {\"__count\": 0.0, \"__hid\": \"Hist_10438ad88\", \"y\": -3.0, \"x\": 1.0, \"__error\": 0.0}, {\"__count\": 0.0, \"__hid\": \"Hist_10438ad88\", \"y\": -2.0, \"x\": 1.0, \"__error\": 0.0}, {\"__count\": 4.0, \"__hid\": \"Hist_10438ad88\", \"y\": -1.0, \"x\": 1.0, \"__error\": 2.0}, {\"__count\": 2.0, \"__hid\": \"Hist_10438ad88\", \"y\": 0.0, \"x\": 1.0, \"__error\": 1.4142135623730951}, {\"__count\": 0.0, \"__hid\": \"Hist_10438ad88\", \"y\": 1.0, \"x\": 1.0, \"__error\": 0.0}, {\"__count\": 0.0, \"__hid\": \"Hist_10438ad88\", \"y\": 2.0, \"x\": 1.0, \"__error\": 0.0}, {\"__count\": 0.0, \"__hid\": \"Hist_10438ad88\", \"y\": 3.0, \"x\": 1.0, \"__error\": 0.0}, {\"__count\": 0.0, \"__hid\": \"Hist_10438ad88\", \"y\": 4.0, \"x\": 1.0, \"__error\": 0.0}, {\"__count\": 0.0, \"__hid\": \"Hist_10438ad88\", \"y\": -5.0, \"x\": 2.0, \"__error\": 0.0}, {\"__count\": 0.0, \"__hid\": \"Hist_10438ad88\", \"y\": -4.0, \"x\": 2.0, \"__error\": 0.0}, {\"__count\": 0.0, \"__hid\": \"Hist_10438ad88\", \"y\": -3.0, \"x\": 2.0, \"__error\": 0.0}, {\"__count\": 0.0, \"__hid\": \"Hist_10438ad88\", \"y\": -2.0, \"x\": 2.0, \"__error\": 0.0}, {\"__count\": 0.0, \"__hid\": \"Hist_10438ad88\", \"y\": -1.0, \"x\": 2.0, \"__error\": 0.0}, {\"__count\": 0.0, \"__hid\": \"Hist_10438ad88\", \"y\": 0.0, \"x\": 2.0, \"__error\": 0.0}, {\"__count\": 0.0, \"__hid\": \"Hist_10438ad88\", \"y\": 1.0, \"x\": 2.0, \"__error\": 0.0}, {\"__count\": 0.0, \"__hid\": \"Hist_10438ad88\", \"y\": 2.0, \"x\": 2.0, \"__error\": 0.0}, {\"__count\": 0.0, \"__hid\": \"Hist_10438ad88\", \"y\": 3.0, \"x\": 2.0, \"__error\": 0.0}, {\"__count\": 0.0, \"__hid\": \"Hist_10438ad88\", \"y\": 4.0, \"x\": 2.0, \"__error\": 0.0}, {\"__count\": 0.0, \"__hid\": \"Hist_10438ad88\", \"y\": -5.0, \"x\": 3.0, \"__error\": 0.0}, {\"__count\": 0.0, \"__hid\": \"Hist_10438ad88\", \"y\": -4.0, \"x\": 3.0, \"__error\": 0.0}, {\"__count\": 0.0, \"__hid\": \"Hist_10438ad88\", \"y\": -3.0, \"x\": 3.0, \"__error\": 0.0}, {\"__count\": 0.0, \"__hid\": \"Hist_10438ad88\", \"y\": -2.0, \"x\": 3.0, \"__error\": 0.0}, {\"__count\": 0.0, \"__hid\": \"Hist_10438ad88\", \"y\": -1.0, \"x\": 3.0, \"__error\": 0.0}, {\"__count\": 0.0, \"__hid\": \"Hist_10438ad88\", \"y\": 0.0, \"x\": 3.0, \"__error\": 0.0}, {\"__count\": 0.0, \"__hid\": \"Hist_10438ad88\", \"y\": 1.0, \"x\": 3.0, \"__error\": 0.0}, {\"__count\": 0.0, \"__hid\": \"Hist_10438ad88\", \"y\": 2.0, \"x\": 3.0, \"__error\": 0.0}, {\"__count\": 0.0, \"__hid\": \"Hist_10438ad88\", \"y\": 3.0, \"x\": 3.0, \"__error\": 0.0}, {\"__count\": 0.0, \"__hid\": \"Hist_10438ad88\", \"y\": 4.0, \"x\": 3.0, \"__error\": 0.0}, {\"__count\": 0.0, \"__hid\": \"Hist_10438ad88\", \"y\": -5.0, \"x\": 4.0, \"__error\": 0.0}, {\"__count\": 0.0, \"__hid\": \"Hist_10438ad88\", \"y\": -4.0, \"x\": 4.0, \"__error\": 0.0}, {\"__count\": 0.0, \"__hid\": \"Hist_10438ad88\", \"y\": -3.0, \"x\": 4.0, \"__error\": 0.0}, {\"__count\": 0.0, \"__hid\": \"Hist_10438ad88\", \"y\": -2.0, \"x\": 4.0, \"__error\": 0.0}, {\"__count\": 0.0, \"__hid\": \"Hist_10438ad88\", \"y\": -1.0, \"x\": 4.0, \"__error\": 0.0}, {\"__count\": 0.0, \"__hid\": \"Hist_10438ad88\", \"y\": 0.0, \"x\": 4.0, \"__error\": 0.0}, {\"__count\": 0.0, \"__hid\": \"Hist_10438ad88\", \"y\": 1.0, \"x\": 4.0, \"__error\": 0.0}, {\"__count\": 0.0, \"__hid\": \"Hist_10438ad88\", \"y\": 2.0, \"x\": 4.0, \"__error\": 0.0}, {\"__count\": 0.0, \"__hid\": \"Hist_10438ad88\", \"y\": 3.0, \"x\": 4.0, \"__error\": 0.0}, {\"__count\": 0.0, \"__hid\": \"Hist_10438ad88\", \"y\": 4.0, \"x\": 4.0, \"__error\": 0.0}]}, \"encoding\": {\"y\": {\"bin\": {\"extent\": [-5.0, 5.0]}, \"field\": \"y\", \"scale\": {\"zero\": false}, \"type\": \"quantitative\", \"axis\": {\"title\": \"y\"}}, \"x\": {\"bin\": {\"extent\": [-5.0, 5.0]}, \"field\": \"x\", \"scale\": {\"zero\": false}, \"type\": \"quantitative\", \"axis\": {\"title\": \"x\"}}, \"color\": {\"field\": \"__count\", \"scale\": {\"zero\": true}, \"type\": \"quantitative\", \"legend\": {\"title\": \"entries per bin\"}}}, \"data\": {\"name\": \"Hist_10438ad88\"}, \"mark\": \"rect\", \"$schema\": \"https://vega.github.io/schema/vega-lite/v2.json\", \"config\": {\"range\": {\"heatmap\": {\"scheme\": \"greenblue\"}}}};\n",
       "var opt = {};\n",
       "var type = \"vega-lite\";\n",
       "var id = \"bedd9ed2-4bcc-4e2d-b812-e86cf5679715\";\n",
       "\n",
       "var output_area = this;\n",
       "\n",
       "require([\"nbextensions/jupyter-vega/index\"], function(vega) {\n",
       "  var target = document.createElement(\"div\");\n",
       "  target.id = id;\n",
       "  target.className = \"vega-embed\";\n",
       "\n",
       "  var style = document.createElement(\"style\");\n",
       "  style.textContent = [\n",
       "    \".vega-embed .error p {\",\n",
       "    \"  color: firebrick;\",\n",
       "    \"  font-size: 14px;\",\n",
       "    \"}\",\n",
       "  ].join(\"\\\\n\");\n",
       "\n",
       "  // element is a jQuery wrapped DOM element inside the output area\n",
       "  // see http://ipython.readthedocs.io/en/stable/api/generated/\\\n",
       "  // IPython.display.html#IPython.display.Javascript.__init__\n",
       "  element[0].appendChild(target);\n",
       "  element[0].appendChild(style);\n",
       "\n",
       "  vega.render(\"#\" + id, spec, type, opt, output_area);\n",
       "}, function (err) {\n",
       "  if (err.requireType !== \"scripterror\") {\n",
       "    throw(err);\n",
       "  }\n",
       "});\n"
      ],
      "text/plain": [
       "<vega.vegalite.VegaLite at 0x10319be90>"
      ]
     },
     "execution_count": 2,
     "metadata": {
      "jupyter-vega": "#bedd9ed2-4bcc-4e2d-b812-e86cf5679715"
     },
     "output_type": "execute_result"
    },
    {
     "data": {
      "image/png": "[encoded data removed]"
     },
     "metadata": {
      "jupyter-vega": "#bedd9ed2-4bcc-4e2d-b812-e86cf5679715"
     },
     "output_type": "display_data"
    }
   ],
   "source": [
    "histogram2 = Hist(bin(\"x\", 10, -5, 5), bin(\"y\", 10, -5, 5))\n",
    "histogram2.fill(x=np.random.normal(0, 0.7, 100), y=np.random.normal(0, 0.8, 100))\n",
    "histogram2.heatmap(\"x\", \"y\", color_schema=\"greenblue\").to(canvas)"
   ]
  },
  {
   "cell_type": "code",
   "execution_count": null,
   "metadata": {},
   "outputs": [],
   "source": [
    "histogram2.heatmap(\"x\", \"y\", color_schema=\"greenblue\").plot()"
   ]
  },
  {
   "cell_type": "code",
   "execution_count": null,
   "metadata": {},
   "outputs": [],
   "source": []
  }
 ],
 "metadata": {
  "kernelspec": {
   "display_name": "Python 2",
   "language": "python",
   "name": "python2"
  },
  "language_info": {
   "codemirror_mode": {
    "name": "ipython",
    "version": 2
   },
   "file_extension": ".py",
   "mimetype": "text/x-python",
   "name": "python",
   "nbconvert_exporter": "python",
   "pygments_lexer": "ipython2",
   "version": "2.7.15"
  }
 },
 "nbformat": 4,
 "nbformat_minor": 2
}
